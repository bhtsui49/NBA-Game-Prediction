{
 "cells": [
  {
   "cell_type": "code",
   "execution_count": 1,
   "metadata": {},
   "outputs": [],
   "source": [
    "import pandas as pd\n",
    "import numpy as np\n",
    "from random import sample\n",
    "from collections import defaultdict\n",
    "from sklearn import linear_model\n",
    "import os\n",
    "from urllib.request import urlopen\n",
    "from bs4 import BeautifulSoup\n",
    "import matplotlib.pyplot as plt"
   ]
  },
  {
   "cell_type": "code",
   "execution_count": 70,
   "metadata": {},
   "outputs": [],
   "source": [
    "header = ['Rk','G','Date','Team','Away','Opp','W/L','PS','PA','FG','FGA','FG%','3P','3PA','3P%','FT','FTA','FT%','ORB','TRB','AST','STL','BLK','TOV','PF','Drop','OFG','OFGA','OFG%','O3P','O3PA','O3P%','OFT','OFTA','OFT%','OORB','OTRB','OAST','OSTL','OBLK','OTOV','OPF']\n",
    "df = pd.read_csv('Data/gsw.csv')\n",
    "df.columns = header\n",
    "df = df[1:]\n",
    "for file in os.listdir('Data'):\n",
    "    df_add = pd.read_csv(os.path.join('Data',file))\n",
    "    df_add.columns = header\n",
    "    df_add = df_add[1:]\n",
    "    df = df.append(df_add)\n",
    "df = df[82:]\n",
    "df['Away'] = df['Away'].map({'@':1,np.nan:0})"
   ]
  },
  {
   "cell_type": "code",
   "execution_count": 71,
   "metadata": {},
   "outputs": [],
   "source": [
    "df['Rk'] = df['Rk'].astype(int)\n",
    "df['W/L'] = df['W/L'].map({'W':1,'L':0})\n",
    "df = df.drop(columns=['Drop'])"
   ]
  },
  {
   "cell_type": "code",
   "execution_count": 72,
   "metadata": {},
   "outputs": [],
   "source": [
    "change = ['PS','PA','FG','FGA','FG%','3P','3PA','3P%','FT','FTA','FT%','ORB','TRB','AST','STL','BLK','TOV','PF','OFG','OFGA','OFG%','O3P','O3PA','O3P%','OFT','OFTA','OFT%','OORB','OTRB','OAST','OSTL','OBLK','OTOV','OPF']\n",
    "for col in change:\n",
    "    if '.' in df.iloc[0][col]:\n",
    "        df[col] = df[col].astype(float)\n",
    "    else:\n",
    "        df[col] = df[col].astype(int)"
   ]
  },
  {
   "cell_type": "code",
   "execution_count": 77,
   "metadata": {},
   "outputs": [],
   "source": [
    "elligible = df[df['Rk']>10]"
   ]
  },
  {
   "cell_type": "code",
   "execution_count": 79,
   "metadata": {},
   "outputs": [],
   "source": [
    "randomized = elligible.sample(frac=1).reset_index(drop=True)"
   ]
  },
  {
   "cell_type": "code",
   "execution_count": 81,
   "metadata": {},
   "outputs": [],
   "source": [
    "train = randomized[:1512]\n",
    "valid = randomized[1512:1836]\n",
    "test = randomized[1836:]"
   ]
  },
  {
   "cell_type": "code",
   "execution_count": 83,
   "metadata": {},
   "outputs": [],
   "source": [
    "train.to_csv('train.csv')\n",
    "valid.to_csv('valid.csv')\n",
    "test.to_csv('test.csv')"
   ]
  },
  {
   "cell_type": "code",
   "execution_count": 163,
   "metadata": {},
   "outputs": [],
   "source": [
    "train_y = list(train['W/L'].values)\n",
    "valid_y = list(valid['W/L'].values)\n",
    "test_y = list(test['W/L'].values)"
   ]
  },
  {
   "cell_type": "code",
   "execution_count": 148,
   "metadata": {},
   "outputs": [],
   "source": [
    "stats = ['W/L','PS','PA','FG','FGA','FG%','3P','3PA','3P%','FT','FTA','FT%','ORB','TRB','AST','STL','BLK','TOV','PF','OFG','OFGA','OFG%','O3P','O3PA','O3P%','OFT','OFTA','OFT%','OORB','OTRB','OAST','OSTL','OBLK','OTOV','OPF']\n",
    "op_cols = ['Opp_W/L','Opp_PS','Opp_PA','Opp_FG','Opp_FGA','Opp_FG%','Opp_3P','Opp_3PA','Opp_3P%','Opp_FT','Opp_FTA','Opp_FT%','Opp_ORB','Opp_TRB','Opp_AST','Opp_STL','Opp_BLK','Opp_TOV','Opp_PF','Opp_OFG','Opp_OFGA','Opp_OFG%','Opp_O3P','Opp_O3PA','Opp_O3P%','Opp_OFT','Opp_OFTA','Opp_OFT%','Opp_OORB','Opp_OTRB','Opp_OAST','Opp_OSTL','Opp_OBLK','Opp_OTOV','Opp_OPF']\n",
    "def get_averages(data):\n",
    "    team_data = df[df['Team']==data['Team']]\n",
    "    opp_data = df[df['Team']==data['Opp']]\n",
    "    team_data = team_data[team_data['Rk'] < data['Rk']]\n",
    "    opp_rk = df[df['Date']==data['Date']]\n",
    "    opp_rk = opp_rk[opp_rk['Team']==data['Opp']]['Rk'].values[0]\n",
    "    opp_data = opp_data[opp_data['Rk'] < opp_rk]\n",
    "    team_stats_means = team_data[stats].mean()\n",
    "    opp_stats_means = opp_data[stats].mean()\n",
    "    opp_stats_means.index = op_cols\n",
    "    result_row = data[0:6].append(team_stats_means)\n",
    "    result_row = result_row.append(opp_stats_means)\n",
    "    return result_row"
   ]
  },
  {
   "cell_type": "code",
   "execution_count": 149,
   "metadata": {},
   "outputs": [],
   "source": [
    "averages = []\n",
    "for i in range(len(train)):\n",
    "    averages.append(get_averages(train.iloc[i]))"
   ]
  },
  {
   "cell_type": "code",
   "execution_count": 152,
   "metadata": {},
   "outputs": [],
   "source": [
    "train_transform = pd.concat(averages,axis = 1).transpose()"
   ]
  },
  {
   "cell_type": "code",
   "execution_count": 153,
   "metadata": {},
   "outputs": [],
   "source": [
    "averages_valid = []\n",
    "for i in range(len(valid)):\n",
    "    averages_valid.append(get_averages(valid.iloc[i]))\n",
    "averages_test = []\n",
    "for i in range(len(test)):\n",
    "    averages_test.append(get_averages(test.iloc[i]))\n",
    "valid_transform = pd.concat(averages_valid,axis = 1).transpose()\n",
    "test_transform = pd.concat(averages_test,axis = 1).transpose()"
   ]
  },
  {
   "cell_type": "code",
   "execution_count": 165,
   "metadata": {},
   "outputs": [],
   "source": [
    "valid_transform['W/L'] = valid_y\n",
    "train_transform['W/L'] = train_y\n",
    "test_transform['W/L'] = test_y"
   ]
  },
  {
   "cell_type": "code",
   "execution_count": 167,
   "metadata": {},
   "outputs": [],
   "source": [
    "train_transform.to_csv('train_averages.csv')\n",
    "valid_transform.to_csv('valid_averages.csv')\n",
    "test_transform.to_csv('test_averages.csv')"
   ]
  },
  {
   "cell_type": "code",
   "execution_count": 232,
   "metadata": {},
   "outputs": [],
   "source": [
    "year = 1996\n",
    "url = 'https://www.basketball-reference.com/teams/NYK/{}/gamelog-advanced/'.format(year)\n",
    "html = urlopen(url)\n",
    "soup = BeautifulSoup(html)"
   ]
  },
  {
   "cell_type": "code",
   "execution_count": 235,
   "metadata": {},
   "outputs": [
    {
     "data": {
      "text/plain": [
       "[20, 21, 42, 43, 64, 65]"
      ]
     },
     "execution_count": 235,
     "metadata": {},
     "output_type": "execute_result"
    }
   ],
   "source": [
    "drop_indices = [20,21,42,43,64,65,86,87]\n",
    "[x for x in drop_indices if x < 66]"
   ]
  },
  {
   "cell_type": "code",
   "execution_count": 252,
   "metadata": {},
   "outputs": [],
   "source": [
    "all_stats = []\n",
    "for team in full_teams:\n",
    "    for year in range(1994,2020):\n",
    "        url = 'https://www.basketball-reference.com/teams/{}/{}/gamelog-advanced/'.format(team,year)\n",
    "        html = urlopen(url)\n",
    "        soup = BeautifulSoup(html)\n",
    "        headers = [th.getText() for th in soup.findAll('tr', limit=2)[1].findAll('th')]\n",
    "        headers = headers[1:]\n",
    "        rows = soup.findAll('tr')[2:]\n",
    "        player_stats = [[td.getText() for td in rows[i].findAll('td')]for i in range(len(rows))]\n",
    "        stats = pd.DataFrame(player_stats, columns = headers)\n",
    "        stats['Team'] = team\n",
    "        stats['Season'] = year\n",
    "        new_columns = ['G', 'Date', 'Away', 'Opp', 'W/L', 'PF', 'PA', 'ORtg', 'DRtg', 'Pace',\n",
    "               'FTr', '3PAr', 'TS%', 'TRB%', 'AST%', 'STL%', 'BLK%', 'Drop', 'eFG%',\n",
    "               'TOV%', 'ORB%', 'FT/FGA', 'Drop', 'Opp_eFG%', 'Opp_TOV%', 'DRB%', 'Opp_FT/FGA',\n",
    "               'Team','Season']\n",
    "        stats.columns = new_columns\n",
    "        drop_indices = [20,21,42,43,64,65,86,87]\n",
    "        drop_indices = [x for x in drop_indices if x < len(stats)]\n",
    "        stats = stats.drop(columns = ['Drop'],index = drop_indices)\n",
    "        stats['Away'] = stats['Away'].map({'@':1,np.nan:0,1:1})\n",
    "        stats['Away'] = stats['Away'].fillna(0)\n",
    "        stats['W/L'] = stats['W/L'].map({'W':1,'L':0})\n",
    "        all_stats.append(stats)"
   ]
  },
  {
   "cell_type": "code",
   "execution_count": 253,
   "metadata": {},
   "outputs": [],
   "source": [
    "most_team_data = pd.concat(all_stats)"
   ]
  },
  {
   "cell_type": "code",
   "execution_count": 255,
   "metadata": {},
   "outputs": [],
   "source": [
    "part_stats = []\n",
    "for year in range(1994,2020):\n",
    "    if year >= 2013:\n",
    "        team = 'BRK'\n",
    "    else:\n",
    "        team = 'NJN'\n",
    "    url = 'https://www.basketball-reference.com/teams/{}/{}/gamelog-advanced/'.format(team,year)\n",
    "    html = urlopen(url)\n",
    "    soup = BeautifulSoup(html)\n",
    "    headers = [th.getText() for th in soup.findAll('tr', limit=2)[1].findAll('th')]\n",
    "    headers = headers[1:]\n",
    "    rows = soup.findAll('tr')[2:]\n",
    "    player_stats = [[td.getText() for td in rows[i].findAll('td')]for i in range(len(rows))]\n",
    "    stats = pd.DataFrame(player_stats, columns = headers)\n",
    "    stats['Team'] = team\n",
    "    stats['Season'] = year\n",
    "    new_columns = ['G', 'Date', 'Away', 'Opp', 'W/L', 'PF', 'PA', 'ORtg', 'DRtg', 'Pace',\n",
    "           'FTr', '3PAr', 'TS%', 'TRB%', 'AST%', 'STL%', 'BLK%', 'Drop', 'eFG%',\n",
    "            'TOV%', 'ORB%', 'FT/FGA', 'Drop', 'Opp_eFG%', 'Opp_TOV%', 'DRB%', 'Opp_FT/FGA',\n",
    "           'Team','Season']\n",
    "    stats.columns = new_columns\n",
    "    drop_indices = [20,21,42,43,64,65,86,87]\n",
    "    drop_indices = [x for x in drop_indices if x < len(stats)]\n",
    "    stats = stats.drop(columns = ['Drop'],index = drop_indices)\n",
    "    stats['Away'] = stats['Away'].map({'@':1,np.nan:0,1:1})\n",
    "    stats['Away'] = stats['Away'].fillna(0)\n",
    "    stats['W/L'] = stats['W/L'].map({'W':1,'L':0})\n",
    "    part_stats.append(stats)"
   ]
  },
  {
   "cell_type": "code",
   "execution_count": 256,
   "metadata": {},
   "outputs": [],
   "source": [
    "nets_stats = pd.concat(part_stats)"
   ]
  },
  {
   "cell_type": "code",
   "execution_count": 258,
   "metadata": {},
   "outputs": [],
   "source": [
    "part_stats = []\n",
    "for year in range(1994,2020):\n",
    "    if year <= 2002:\n",
    "        team = 'CHH'\n",
    "    elif 2003 <= year <= 2004:\n",
    "        continue\n",
    "    elif 2005 <= year <= 2014:\n",
    "        team = 'CHA'\n",
    "    else:\n",
    "        team = 'CHO'\n",
    "    url = 'https://www.basketball-reference.com/teams/{}/{}/gamelog-advanced/'.format(team,year)\n",
    "    html = urlopen(url)\n",
    "    soup = BeautifulSoup(html)\n",
    "    headers = [th.getText() for th in soup.findAll('tr', limit=2)[1].findAll('th')]\n",
    "    headers = headers[1:]\n",
    "    rows = soup.findAll('tr')[2:]\n",
    "    player_stats = [[td.getText() for td in rows[i].findAll('td')]for i in range(len(rows))]\n",
    "    stats = pd.DataFrame(player_stats, columns = headers)\n",
    "    stats['Team'] = team\n",
    "    stats['Season'] = year\n",
    "    new_columns = ['G', 'Date', 'Away', 'Opp', 'W/L', 'PF', 'PA', 'ORtg', 'DRtg', 'Pace',\n",
    "           'FTr', '3PAr', 'TS%', 'TRB%', 'AST%', 'STL%', 'BLK%', 'Drop', 'eFG%',\n",
    "            'TOV%', 'ORB%', 'FT/FGA', 'Drop', 'Opp_eFG%', 'Opp_TOV%', 'DRB%', 'Opp_FT/FGA',\n",
    "           'Team','Season']\n",
    "    stats.columns = new_columns\n",
    "    drop_indices = [20,21,42,43,64,65,86,87]\n",
    "    drop_indices = [x for x in drop_indices if x < len(stats)]\n",
    "    stats = stats.drop(columns = ['Drop'],index = drop_indices)\n",
    "    stats['Away'] = stats['Away'].map({'@':1,np.nan:0,1:1})\n",
    "    stats['Away'] = stats['Away'].fillna(0)\n",
    "    stats['W/L'] = stats['W/L'].map({'W':1,'L':0})\n",
    "    part_stats.append(stats)"
   ]
  },
  {
   "cell_type": "code",
   "execution_count": 259,
   "metadata": {},
   "outputs": [],
   "source": [
    "hornets_stats = pd.concat(part_stats)"
   ]
  },
  {
   "cell_type": "code",
   "execution_count": 262,
   "metadata": {},
   "outputs": [],
   "source": [
    "part_stats = []\n",
    "for year in range(1996,2020):\n",
    "    if year <= 2001:\n",
    "        team = 'VAN'\n",
    "    else:\n",
    "        team = 'MEM'\n",
    "    url = 'https://www.basketball-reference.com/teams/{}/{}/gamelog-advanced/'.format(team,year)\n",
    "    html = urlopen(url)\n",
    "    soup = BeautifulSoup(html)\n",
    "    headers = [th.getText() for th in soup.findAll('tr', limit=2)[1].findAll('th')]\n",
    "    headers = headers[1:]\n",
    "    rows = soup.findAll('tr')[2:]\n",
    "    player_stats = [[td.getText() for td in rows[i].findAll('td')]for i in range(len(rows))]\n",
    "    stats = pd.DataFrame(player_stats, columns = headers)\n",
    "    stats['Team'] = team\n",
    "    stats['Season'] = year\n",
    "    new_columns = ['G', 'Date', 'Away', 'Opp', 'W/L', 'PF', 'PA', 'ORtg', 'DRtg', 'Pace',\n",
    "           'FTr', '3PAr', 'TS%', 'TRB%', 'AST%', 'STL%', 'BLK%', 'Drop', 'eFG%',\n",
    "            'TOV%', 'ORB%', 'FT/FGA', 'Drop', 'Opp_eFG%', 'Opp_TOV%', 'DRB%', 'Opp_FT/FGA',\n",
    "           'Team','Season']\n",
    "    stats.columns = new_columns\n",
    "    drop_indices = [20,21,42,43,64,65,86,87]\n",
    "    drop_indices = [x for x in drop_indices if x < len(stats)]\n",
    "    stats = stats.drop(columns = ['Drop'],index = drop_indices)\n",
    "    stats['Away'] = stats['Away'].map({'@':1,np.nan:0,1:1})\n",
    "    stats['Away'] = stats['Away'].fillna(0)\n",
    "    stats['W/L'] = stats['W/L'].map({'W':1,'L':0})\n",
    "    part_stats.append(stats)"
   ]
  },
  {
   "cell_type": "code",
   "execution_count": 263,
   "metadata": {},
   "outputs": [],
   "source": [
    "griz_stats = pd.concat(part_stats)"
   ]
  },
  {
   "cell_type": "code",
   "execution_count": 264,
   "metadata": {},
   "outputs": [],
   "source": [
    "part_stats = []\n",
    "for year in range(2003,2020):\n",
    "    if year <= 2005:\n",
    "        team = 'NOH'\n",
    "    elif 2006 <= year <=2007:\n",
    "        team = 'NOK'\n",
    "    elif 2008 <= year <=2013:\n",
    "        team = 'NOH'\n",
    "    else:\n",
    "        team = 'NOP'\n",
    "    url = 'https://www.basketball-reference.com/teams/{}/{}/gamelog-advanced/'.format(team,year)\n",
    "    html = urlopen(url)\n",
    "    soup = BeautifulSoup(html)\n",
    "    headers = [th.getText() for th in soup.findAll('tr', limit=2)[1].findAll('th')]\n",
    "    headers = headers[1:]\n",
    "    rows = soup.findAll('tr')[2:]\n",
    "    player_stats = [[td.getText() for td in rows[i].findAll('td')]for i in range(len(rows))]\n",
    "    stats = pd.DataFrame(player_stats, columns = headers)\n",
    "    stats['Team'] = team\n",
    "    stats['Season'] = year\n",
    "    new_columns = ['G', 'Date', 'Away', 'Opp', 'W/L', 'PF', 'PA', 'ORtg', 'DRtg', 'Pace',\n",
    "           'FTr', '3PAr', 'TS%', 'TRB%', 'AST%', 'STL%', 'BLK%', 'Drop', 'eFG%',\n",
    "            'TOV%', 'ORB%', 'FT/FGA', 'Drop', 'Opp_eFG%', 'Opp_TOV%', 'DRB%', 'Opp_FT/FGA',\n",
    "           'Team','Season']\n",
    "    stats.columns = new_columns\n",
    "    drop_indices = [20,21,42,43,64,65,86,87]\n",
    "    drop_indices = [x for x in drop_indices if x < len(stats)]\n",
    "    stats = stats.drop(columns = ['Drop'],index = drop_indices)\n",
    "    stats['Away'] = stats['Away'].map({'@':1,np.nan:0,1:1})\n",
    "    stats['Away'] = stats['Away'].fillna(0)\n",
    "    stats['W/L'] = stats['W/L'].map({'W':1,'L':0})\n",
    "    part_stats.append(stats)"
   ]
  },
  {
   "cell_type": "code",
   "execution_count": 265,
   "metadata": {},
   "outputs": [],
   "source": [
    "pel_stats = pd.concat(part_stats)"
   ]
  },
  {
   "cell_type": "code",
   "execution_count": 268,
   "metadata": {},
   "outputs": [],
   "source": [
    "part_stats = []\n",
    "for year in range(1994,2020):\n",
    "    if year <= 2008:\n",
    "        team = 'SEA'\n",
    "    else:\n",
    "        team = 'OKC'\n",
    "    url = 'https://www.basketball-reference.com/teams/{}/{}/gamelog-advanced/'.format(team,year)\n",
    "    html = urlopen(url)\n",
    "    soup = BeautifulSoup(html)\n",
    "    headers = [th.getText() for th in soup.findAll('tr', limit=2)[1].findAll('th')]\n",
    "    headers = headers[1:]\n",
    "    rows = soup.findAll('tr')[2:]\n",
    "    player_stats = [[td.getText() for td in rows[i].findAll('td')]for i in range(len(rows))]\n",
    "    stats = pd.DataFrame(player_stats, columns = headers)\n",
    "    stats['Team'] = team\n",
    "    stats['Season'] = year\n",
    "    new_columns = ['G', 'Date', 'Away', 'Opp', 'W/L', 'PF', 'PA', 'ORtg', 'DRtg', 'Pace',\n",
    "           'FTr', '3PAr', 'TS%', 'TRB%', 'AST%', 'STL%', 'BLK%', 'Drop', 'eFG%',\n",
    "            'TOV%', 'ORB%', 'FT/FGA', 'Drop', 'Opp_eFG%', 'Opp_TOV%', 'DRB%', 'Opp_FT/FGA',\n",
    "           'Team','Season']\n",
    "    stats.columns = new_columns\n",
    "    drop_indices = [20,21,42,43,64,65,86,87]\n",
    "    drop_indices = [x for x in drop_indices if x < len(stats)]\n",
    "    stats = stats.drop(columns = ['Drop'],index = drop_indices)\n",
    "    stats['Away'] = stats['Away'].map({'@':1,np.nan:0,1:1})\n",
    "    stats['Away'] = stats['Away'].fillna(0)\n",
    "    stats['W/L'] = stats['W/L'].map({'W':1,'L':0})\n",
    "    part_stats.append(stats)"
   ]
  },
  {
   "cell_type": "code",
   "execution_count": 269,
   "metadata": {},
   "outputs": [],
   "source": [
    "thunder_stats = pd.concat(part_stats)"
   ]
  },
  {
   "cell_type": "code",
   "execution_count": 270,
   "metadata": {},
   "outputs": [],
   "source": [
    "part_stats = []\n",
    "for year in range(1996,2020):\n",
    "    team = 'TOR'\n",
    "    url = 'https://www.basketball-reference.com/teams/{}/{}/gamelog-advanced/'.format(team,year)\n",
    "    html = urlopen(url)\n",
    "    soup = BeautifulSoup(html)\n",
    "    headers = [th.getText() for th in soup.findAll('tr', limit=2)[1].findAll('th')]\n",
    "    headers = headers[1:]\n",
    "    rows = soup.findAll('tr')[2:]\n",
    "    player_stats = [[td.getText() for td in rows[i].findAll('td')]for i in range(len(rows))]\n",
    "    stats = pd.DataFrame(player_stats, columns = headers)\n",
    "    stats['Team'] = team\n",
    "    stats['Season'] = year\n",
    "    new_columns = ['G', 'Date', 'Away', 'Opp', 'W/L', 'PF', 'PA', 'ORtg', 'DRtg', 'Pace',\n",
    "           'FTr', '3PAr', 'TS%', 'TRB%', 'AST%', 'STL%', 'BLK%', 'Drop', 'eFG%',\n",
    "            'TOV%', 'ORB%', 'FT/FGA', 'Drop', 'Opp_eFG%', 'Opp_TOV%', 'DRB%', 'Opp_FT/FGA',\n",
    "           'Team','Season']\n",
    "    stats.columns = new_columns\n",
    "    drop_indices = [20,21,42,43,64,65,86,87]\n",
    "    drop_indices = [x for x in drop_indices if x < len(stats)]\n",
    "    stats = stats.drop(columns = ['Drop'],index = drop_indices)\n",
    "    stats['Away'] = stats['Away'].map({'@':1,np.nan:0,1:1})\n",
    "    stats['Away'] = stats['Away'].fillna(0)\n",
    "    stats['W/L'] = stats['W/L'].map({'W':1,'L':0})\n",
    "    part_stats.append(stats)"
   ]
  },
  {
   "cell_type": "code",
   "execution_count": 271,
   "metadata": {},
   "outputs": [],
   "source": [
    "raptors_stats = pd.concat(part_stats)"
   ]
  },
  {
   "cell_type": "code",
   "execution_count": 272,
   "metadata": {},
   "outputs": [],
   "source": [
    "part_stats = []\n",
    "for year in range(1994,2020):\n",
    "    if year <= 1997:\n",
    "        team = 'WSB'\n",
    "    else:\n",
    "        team = 'WAS'\n",
    "    url = 'https://www.basketball-reference.com/teams/{}/{}/gamelog-advanced/'.format(team,year)\n",
    "    html = urlopen(url)\n",
    "    soup = BeautifulSoup(html)\n",
    "    headers = [th.getText() for th in soup.findAll('tr', limit=2)[1].findAll('th')]\n",
    "    headers = headers[1:]\n",
    "    rows = soup.findAll('tr')[2:]\n",
    "    player_stats = [[td.getText() for td in rows[i].findAll('td')]for i in range(len(rows))]\n",
    "    stats = pd.DataFrame(player_stats, columns = headers)\n",
    "    stats['Team'] = team\n",
    "    stats['Season'] = year\n",
    "    new_columns = ['G', 'Date', 'Away', 'Opp', 'W/L', 'PF', 'PA', 'ORtg', 'DRtg', 'Pace',\n",
    "           'FTr', '3PAr', 'TS%', 'TRB%', 'AST%', 'STL%', 'BLK%', 'Drop', 'eFG%',\n",
    "            'TOV%', 'ORB%', 'FT/FGA', 'Drop', 'Opp_eFG%', 'Opp_TOV%', 'DRB%', 'Opp_FT/FGA',\n",
    "           'Team','Season']\n",
    "    stats.columns = new_columns\n",
    "    drop_indices = [20,21,42,43,64,65,86,87]\n",
    "    drop_indices = [x for x in drop_indices if x < len(stats)]\n",
    "    stats = stats.drop(columns = ['Drop'],index = drop_indices)\n",
    "    stats['Away'] = stats['Away'].map({'@':1,np.nan:0,1:1})\n",
    "    stats['Away'] = stats['Away'].fillna(0)\n",
    "    stats['W/L'] = stats['W/L'].map({'W':1,'L':0})\n",
    "    part_stats.append(stats)"
   ]
  },
  {
   "cell_type": "code",
   "execution_count": 273,
   "metadata": {},
   "outputs": [],
   "source": [
    "wiz_stats = pd.concat(part_stats)"
   ]
  },
  {
   "cell_type": "code",
   "execution_count": 278,
   "metadata": {},
   "outputs": [],
   "source": [
    "partial_teams = pd.concat([wiz_stats,raptors_stats,thunder_stats,pel_stats,hornets_stats,griz_stats,nets_stats])"
   ]
  },
  {
   "cell_type": "code",
   "execution_count": 280,
   "metadata": {},
   "outputs": [],
   "source": [
    "all_teams_stats = pd.concat([partial_teams,most_team_data])"
   ]
  },
  {
   "cell_type": "code",
   "execution_count": 250,
   "metadata": {},
   "outputs": [],
   "source": [
    "full_teams = ['NYK','ATL','CHI','MIL','DET','CLE','IND','ORL','MIA','PHI','BOS','HOU','SAS','UTA','DEN','MIN','DAL','PHO','GSW','POR','LAL','LAC','SAC']"
   ]
  },
  {
   "cell_type": "code",
   "execution_count": 282,
   "metadata": {},
   "outputs": [],
   "source": [
    "all_teams_stats.to_csv('all_data.csv')"
   ]
  },
  {
   "cell_type": "code",
   "execution_count": 287,
   "metadata": {},
   "outputs": [],
   "source": [
    "df = pd.read_csv('all_data.csv')"
   ]
  },
  {
   "cell_type": "code",
   "execution_count": 288,
   "metadata": {},
   "outputs": [],
   "source": [
    "df = df.drop(df.columns[0], axis=1)"
   ]
  },
  {
   "cell_type": "code",
   "execution_count": 292,
   "metadata": {},
   "outputs": [],
   "source": [
    "elligible = df[df['G']>10]"
   ]
  },
  {
   "cell_type": "code",
   "execution_count": 294,
   "metadata": {},
   "outputs": [],
   "source": [
    "randomized = elligible.sample(frac=1).reset_index(drop=True)"
   ]
  },
  {
   "cell_type": "code",
   "execution_count": 295,
   "metadata": {},
   "outputs": [
    {
     "data": {
      "text/plain": [
       "53670"
      ]
     },
     "execution_count": 295,
     "metadata": {},
     "output_type": "execute_result"
    }
   ],
   "source": [
    "len(randomized)"
   ]
  },
  {
   "cell_type": "code",
   "execution_count": 296,
   "metadata": {},
   "outputs": [],
   "source": [
    "train = randomized[:37569]\n",
    "valid = randomized[37569:45619]\n",
    "test = randomized[45619:]"
   ]
  },
  {
   "cell_type": "code",
   "execution_count": 300,
   "metadata": {},
   "outputs": [],
   "source": [
    "train.to_csv('train.csv')\n",
    "valid.to_csv('valid.csv')\n",
    "test.to_csv('test.csv')"
   ]
  },
  {
   "cell_type": "code",
   "execution_count": 314,
   "metadata": {},
   "outputs": [],
   "source": [
    "cols = df.columns.tolist()\n",
    "cols = [cols[0]] + [cols[-1]] + [cols[1]] + [cols[-2]] + cols[2:4]"
   ]
  },
  {
   "cell_type": "code",
   "execution_count": 315,
   "metadata": {},
   "outputs": [
    {
     "data": {
      "text/plain": [
       "['G', 'Season', 'Date', 'Team', 'Away', 'Opp']"
      ]
     },
     "execution_count": 315,
     "metadata": {},
     "output_type": "execute_result"
    }
   ],
   "source": [
    "cols"
   ]
  },
  {
   "cell_type": "code",
   "execution_count": 330,
   "metadata": {},
   "outputs": [],
   "source": [
    "stats = ['W/L', 'PF', 'PA', 'ORtg', 'DRtg', 'Pace',\n",
    "       'FTr', '3PAr', 'TS%', 'TRB%', 'AST%', 'STL%', 'BLK%', 'eFG%', 'TOV%',\n",
    "       'ORB%', 'FT/FGA', 'Opp_eFG%', 'Opp_TOV%', 'DRB%', 'Opp_FT/FGA']\n",
    "op_cols = ['Opp_W/L', 'Opp_PF', 'Opp_PA', 'Opp_ORtg', 'Opp_DRtg', 'Opp_Pace',\n",
    "       'Opp_FTr', 'Opp_3PAr', 'Opp_TS%', 'Opp_TRB%', 'Opp_AST%', 'Opp_STL%', 'Opp_BLK%', 'Opp_eFG%', 'Opp_TOV%',\n",
    "       'Opp_ORB%', 'Opp_FT/FGA', 'Opp_Opp_eFG%', 'Opp_Opp_TOV%', 'Opp_DRB%', 'Opp_Opp_FT/FGA']\n",
    "def get_averages(data):\n",
    "    team_data = df.loc[lambda x: (x.Team == data.Team) & (x.Season == data.Season)]\n",
    "    opp_data = df.loc[lambda x: (x.Team == data.Opp) & (x.Season == data.Season)]\n",
    "    team_data = team_data.loc[lambda x: (data['G']-10 <= x['G']) & (x['G'] < data['G'])]\n",
    "    opp_rk = df[df['Date']==data['Date']]\n",
    "    opp_rk = opp_rk[opp_rk['Team']==data['Opp']]['G'].values[0]\n",
    "    if opp_rk < 10:\n",
    "        lower = 0\n",
    "    else:\n",
    "        lower = opp_rk - 10\n",
    "    opp_data = opp_data.loc[lambda x: (lower <= x['G']) & (x['G'] < opp_rk)]\n",
    "    team_stats_means = team_data[stats].mean()\n",
    "    opp_stats_means = opp_data[stats].mean()\n",
    "    opp_stats_means.index = op_cols\n",
    "    result_row = data[cols].append(team_stats_means)\n",
    "    result_row = result_row.append(opp_stats_means)\n",
    "    return result_row"
   ]
  },
  {
   "cell_type": "code",
   "execution_count": 332,
   "metadata": {},
   "outputs": [
    {
     "data": {
      "text/plain": [
       "103.0"
      ]
     },
     "execution_count": 332,
     "metadata": {},
     "output_type": "execute_result"
    }
   ],
   "source": [
    "lol = df[df['Team'] == 'LAC']\n",
    "lol = lol[lol['Season'] == 2005]\n",
    "lol = lol[lol['G'] < 70]\n",
    "lol = lol[lol['G'] > 59]\n",
    "lol['PF'].mean()"
   ]
  },
  {
   "cell_type": "code",
   "execution_count": 334,
   "metadata": {},
   "outputs": [],
   "source": [
    "averages = []\n",
    "for i in range(len(train)):\n",
    "    averages.append(get_averages(train.iloc[i]))\n",
    "train_transform = pd.concat(averages,axis = 1).transpose()"
   ]
  },
  {
   "cell_type": "code",
   "execution_count": 336,
   "metadata": {},
   "outputs": [],
   "source": [
    "averages_valid = []\n",
    "for i in range(len(valid)):\n",
    "    averages_valid.append(get_averages(valid.iloc[i]))\n",
    "valid_transform = pd.concat(averages_valid,axis = 1).transpose()"
   ]
  },
  {
   "cell_type": "code",
   "execution_count": 337,
   "metadata": {},
   "outputs": [],
   "source": [
    "averages_test = []\n",
    "for i in range(len(test)):\n",
    "    averages_test.append(get_averages(test.iloc[i]))\n",
    "test_transform = pd.concat(averages_test,axis = 1).transpose()"
   ]
  },
  {
   "cell_type": "code",
   "execution_count": 341,
   "metadata": {},
   "outputs": [],
   "source": [
    "train_transform.to_csv('train_averages.csv')\n",
    "valid_transform.to_csv('valid_averages.csv')\n",
    "test_transform.to_csv('test_averages.csv')"
   ]
  },
  {
   "cell_type": "code",
   "execution_count": 346,
   "metadata": {},
   "outputs": [],
   "source": [
    "train_y = train['W/L']\n",
    "valid_y = valid['W/L']\n",
    "test_y = test['W/L']"
   ]
  },
  {
   "cell_type": "code",
   "execution_count": 348,
   "metadata": {},
   "outputs": [],
   "source": [
    "train1 = train_transform.copy()\n",
    "test1 = test_transform.copy()\n",
    "valid1 = valid_transform.copy()"
   ]
  },
  {
   "cell_type": "code",
   "execution_count": 349,
   "metadata": {},
   "outputs": [],
   "source": [
    "train1['Win'] = train_y\n",
    "valid1['Win'] = valid_y\n",
    "test1['Win'] = test_y"
   ]
  },
  {
   "cell_type": "code",
   "execution_count": 374,
   "metadata": {},
   "outputs": [
    {
     "data": {
      "text/plain": [
       "Index(['G', 'Date', 'Away', 'Opp', 'W/L', 'PF', 'PA', 'ORtg', 'DRtg', 'Pace',\n",
       "       'FTr', '3PAr', 'TS%', 'TRB%', 'AST%', 'STL%', 'BLK%', 'eFG%', 'TOV%',\n",
       "       'ORB%', 'FT/FGA', 'Opp_eFG%', 'Opp_TOV%', 'DRB%', 'Opp_FT/FGA', 'Team',\n",
       "       'Season'],\n",
       "      dtype='object')"
      ]
     },
     "execution_count": 374,
     "metadata": {},
     "output_type": "execute_result"
    }
   ],
   "source": [
    "train.columns"
   ]
  },
  {
   "cell_type": "code",
   "execution_count": 365,
   "metadata": {},
   "outputs": [],
   "source": [
    "def baseline(x):\n",
    "    res = 1\n",
    "    if x['W/L'] == x['Opp_W/L']:\n",
    "        if x['PF'] > x['Opp_PF']:\n",
    "            res = 1\n",
    "        else:\n",
    "            res = 0\n",
    "    elif x['W/L'] > x['Opp_W/L']:\n",
    "        res = 1\n",
    "    else:\n",
    "        res = 0\n",
    "    return res"
   ]
  },
  {
   "cell_type": "code",
   "execution_count": 366,
   "metadata": {},
   "outputs": [],
   "source": [
    "preds = train1.apply(baseline, axis = 1)"
   ]
  },
  {
   "cell_type": "code",
   "execution_count": 372,
   "metadata": {},
   "outputs": [
    {
     "data": {
      "text/plain": [
       "0.37373898693071417"
      ]
     },
     "execution_count": 372,
     "metadata": {},
     "output_type": "execute_result"
    }
   ],
   "source": [
    "np.mean(abs(preds - train_y))"
   ]
  },
  {
   "cell_type": "code",
   "execution_count": 640,
   "metadata": {},
   "outputs": [
    {
     "data": {
      "text/html": [
       "<div>\n",
       "<style scoped>\n",
       "    .dataframe tbody tr th:only-of-type {\n",
       "        vertical-align: middle;\n",
       "    }\n",
       "\n",
       "    .dataframe tbody tr th {\n",
       "        vertical-align: top;\n",
       "    }\n",
       "\n",
       "    .dataframe thead th {\n",
       "        text-align: right;\n",
       "    }\n",
       "</style>\n",
       "<table border=\"1\" class=\"dataframe\">\n",
       "  <thead>\n",
       "    <tr style=\"text-align: right;\">\n",
       "      <th></th>\n",
       "      <th>G</th>\n",
       "      <th>Season</th>\n",
       "      <th>Date</th>\n",
       "      <th>Team</th>\n",
       "      <th>Away</th>\n",
       "      <th>Opp</th>\n",
       "      <th>W/L</th>\n",
       "      <th>PF</th>\n",
       "      <th>PA</th>\n",
       "      <th>ORtg</th>\n",
       "      <th>...</th>\n",
       "      <th>Oppo_BLK%</th>\n",
       "      <th>Oppo_eFG%</th>\n",
       "      <th>Oppo_TOV%</th>\n",
       "      <th>Oppo_ORB%</th>\n",
       "      <th>Oppo_FT/FGA</th>\n",
       "      <th>Oppo_Opp_eFG%</th>\n",
       "      <th>Oppo_Opp_TOV%</th>\n",
       "      <th>Oppo_DRB%</th>\n",
       "      <th>Oppo_Opp_FT/FGA</th>\n",
       "      <th>Win</th>\n",
       "    </tr>\n",
       "  </thead>\n",
       "  <tbody>\n",
       "    <tr>\n",
       "      <th>0</th>\n",
       "      <td>63</td>\n",
       "      <td>2009</td>\n",
       "      <td>2009-03-09</td>\n",
       "      <td>LAL</td>\n",
       "      <td>1</td>\n",
       "      <td>POR</td>\n",
       "      <td>0.8</td>\n",
       "      <td>108.9</td>\n",
       "      <td>100.9</td>\n",
       "      <td>113.24</td>\n",
       "      <td>...</td>\n",
       "      <td>5.76</td>\n",
       "      <td>0.5032</td>\n",
       "      <td>10.3</td>\n",
       "      <td>29.47</td>\n",
       "      <td>0.2131</td>\n",
       "      <td>0.5073</td>\n",
       "      <td>12.6</td>\n",
       "      <td>74.98</td>\n",
       "      <td>0.1851</td>\n",
       "      <td>NaN</td>\n",
       "    </tr>\n",
       "    <tr>\n",
       "      <th>1</th>\n",
       "      <td>63</td>\n",
       "      <td>2008</td>\n",
       "      <td>2008-03-08</td>\n",
       "      <td>NYK</td>\n",
       "      <td>0</td>\n",
       "      <td>POR</td>\n",
       "      <td>0.3</td>\n",
       "      <td>98</td>\n",
       "      <td>106.4</td>\n",
       "      <td>106.83</td>\n",
       "      <td>...</td>\n",
       "      <td>8.19</td>\n",
       "      <td>0.4782</td>\n",
       "      <td>11.42</td>\n",
       "      <td>25.17</td>\n",
       "      <td>0.2418</td>\n",
       "      <td>0.5025</td>\n",
       "      <td>12.12</td>\n",
       "      <td>72.14</td>\n",
       "      <td>0.2515</td>\n",
       "      <td>NaN</td>\n",
       "    </tr>\n",
       "    <tr>\n",
       "      <th>2</th>\n",
       "      <td>41</td>\n",
       "      <td>2002</td>\n",
       "      <td>2002-01-23</td>\n",
       "      <td>CHH</td>\n",
       "      <td>0</td>\n",
       "      <td>SEA</td>\n",
       "      <td>0.6</td>\n",
       "      <td>94.9</td>\n",
       "      <td>89.1</td>\n",
       "      <td>105</td>\n",
       "      <td>...</td>\n",
       "      <td>8.5</td>\n",
       "      <td>0.5286</td>\n",
       "      <td>14.68</td>\n",
       "      <td>29.25</td>\n",
       "      <td>0.1777</td>\n",
       "      <td>0.4845</td>\n",
       "      <td>15.69</td>\n",
       "      <td>67.71</td>\n",
       "      <td>0.1818</td>\n",
       "      <td>NaN</td>\n",
       "    </tr>\n",
       "    <tr>\n",
       "      <th>3</th>\n",
       "      <td>21</td>\n",
       "      <td>2002</td>\n",
       "      <td>2001-12-10</td>\n",
       "      <td>UTA</td>\n",
       "      <td>0</td>\n",
       "      <td>DAL</td>\n",
       "      <td>0.5</td>\n",
       "      <td>99.4</td>\n",
       "      <td>97.9</td>\n",
       "      <td>107.73</td>\n",
       "      <td>...</td>\n",
       "      <td>6.27</td>\n",
       "      <td>0.5017</td>\n",
       "      <td>9.49</td>\n",
       "      <td>27.84</td>\n",
       "      <td>0.2119</td>\n",
       "      <td>0.4775</td>\n",
       "      <td>13.08</td>\n",
       "      <td>67.46</td>\n",
       "      <td>0.2545</td>\n",
       "      <td>NaN</td>\n",
       "    </tr>\n",
       "    <tr>\n",
       "      <th>4</th>\n",
       "      <td>38</td>\n",
       "      <td>2019</td>\n",
       "      <td>2019-01-04</td>\n",
       "      <td>ORL</td>\n",
       "      <td>1</td>\n",
       "      <td>MIN</td>\n",
       "      <td>0.5</td>\n",
       "      <td>101.1</td>\n",
       "      <td>103.9</td>\n",
       "      <td>105.43</td>\n",
       "      <td>...</td>\n",
       "      <td>9.49</td>\n",
       "      <td>0.5023</td>\n",
       "      <td>9.76</td>\n",
       "      <td>23.9</td>\n",
       "      <td>0.2258</td>\n",
       "      <td>0.5485</td>\n",
       "      <td>13.48</td>\n",
       "      <td>76.44</td>\n",
       "      <td>0.1732</td>\n",
       "      <td>NaN</td>\n",
       "    </tr>\n",
       "  </tbody>\n",
       "</table>\n",
       "<p>5 rows × 49 columns</p>\n",
       "</div>"
      ],
      "text/plain": [
       "    G Season        Date Team Away  Opp  W/L     PF     PA    ORtg  ...  \\\n",
       "0  63   2009  2009-03-09  LAL    1  POR  0.8  108.9  100.9  113.24  ...   \n",
       "1  63   2008  2008-03-08  NYK    0  POR  0.3     98  106.4  106.83  ...   \n",
       "2  41   2002  2002-01-23  CHH    0  SEA  0.6   94.9   89.1     105  ...   \n",
       "3  21   2002  2001-12-10  UTA    0  DAL  0.5   99.4   97.9  107.73  ...   \n",
       "4  38   2019  2019-01-04  ORL    1  MIN  0.5  101.1  103.9  105.43  ...   \n",
       "\n",
       "  Oppo_BLK% Oppo_eFG% Oppo_TOV% Oppo_ORB% Oppo_FT/FGA Oppo_Opp_eFG%  \\\n",
       "0      5.76    0.5032      10.3     29.47      0.2131        0.5073   \n",
       "1      8.19    0.4782     11.42     25.17      0.2418        0.5025   \n",
       "2       8.5    0.5286     14.68     29.25      0.1777        0.4845   \n",
       "3      6.27    0.5017      9.49     27.84      0.2119        0.4775   \n",
       "4      9.49    0.5023      9.76      23.9      0.2258        0.5485   \n",
       "\n",
       "  Oppo_Opp_TOV% Oppo_DRB% Oppo_Opp_FT/FGA Win  \n",
       "0          12.6     74.98          0.1851 NaN  \n",
       "1         12.12     72.14          0.2515 NaN  \n",
       "2         15.69     67.71          0.1818 NaN  \n",
       "3         13.08     67.46          0.2545 NaN  \n",
       "4         13.48     76.44          0.1732 NaN  \n",
       "\n",
       "[5 rows x 49 columns]"
      ]
     },
     "execution_count": 640,
     "metadata": {},
     "output_type": "execute_result"
    }
   ],
   "source": [
    "test1.head()"
   ]
  },
  {
   "cell_type": "code",
   "execution_count": 639,
   "metadata": {},
   "outputs": [
    {
     "ename": "KeyError",
     "evalue": "('Opp_W/L', 'occurred at index 0')",
     "output_type": "error",
     "traceback": [
      "\u001b[1;31m---------------------------------------------------------------------------\u001b[0m",
      "\u001b[1;31mTypeError\u001b[0m                                 Traceback (most recent call last)",
      "\u001b[1;32m~\\Anaconda3\\lib\\site-packages\\pandas\\core\\indexes\\base.py\u001b[0m in \u001b[0;36mget_value\u001b[1;34m(self, series, key)\u001b[0m\n\u001b[0;32m   4379\u001b[0m             \u001b[1;32mtry\u001b[0m\u001b[1;33m:\u001b[0m\u001b[1;33m\u001b[0m\u001b[1;33m\u001b[0m\u001b[0m\n\u001b[1;32m-> 4380\u001b[1;33m                 \u001b[1;32mreturn\u001b[0m \u001b[0mlibindex\u001b[0m\u001b[1;33m.\u001b[0m\u001b[0mget_value_box\u001b[0m\u001b[1;33m(\u001b[0m\u001b[0ms\u001b[0m\u001b[1;33m,\u001b[0m \u001b[0mkey\u001b[0m\u001b[1;33m)\u001b[0m\u001b[1;33m\u001b[0m\u001b[1;33m\u001b[0m\u001b[0m\n\u001b[0m\u001b[0;32m   4381\u001b[0m             \u001b[1;32mexcept\u001b[0m \u001b[0mIndexError\u001b[0m\u001b[1;33m:\u001b[0m\u001b[1;33m\u001b[0m\u001b[1;33m\u001b[0m\u001b[0m\n",
      "\u001b[1;32mpandas\\_libs\\index.pyx\u001b[0m in \u001b[0;36mpandas._libs.index.get_value_box\u001b[1;34m()\u001b[0m\n",
      "\u001b[1;32mpandas\\_libs\\index.pyx\u001b[0m in \u001b[0;36mpandas._libs.index.get_value_at\u001b[1;34m()\u001b[0m\n",
      "\u001b[1;32mpandas\\_libs\\util.pxd\u001b[0m in \u001b[0;36mpandas._libs.util.get_value_at\u001b[1;34m()\u001b[0m\n",
      "\u001b[1;32mpandas\\_libs\\util.pxd\u001b[0m in \u001b[0;36mpandas._libs.util.validate_indexer\u001b[1;34m()\u001b[0m\n",
      "\u001b[1;31mTypeError\u001b[0m: 'str' object cannot be interpreted as an integer",
      "\nDuring handling of the above exception, another exception occurred:\n",
      "\u001b[1;31mKeyError\u001b[0m                                  Traceback (most recent call last)",
      "\u001b[1;32m<ipython-input-639-c7e689cc86db>\u001b[0m in \u001b[0;36m<module>\u001b[1;34m\u001b[0m\n\u001b[1;32m----> 1\u001b[1;33m \u001b[0mpreds\u001b[0m \u001b[1;33m=\u001b[0m \u001b[0mtest1\u001b[0m\u001b[1;33m.\u001b[0m\u001b[0mapply\u001b[0m\u001b[1;33m(\u001b[0m\u001b[0mbaseline\u001b[0m\u001b[1;33m,\u001b[0m \u001b[0maxis\u001b[0m \u001b[1;33m=\u001b[0m \u001b[1;36m1\u001b[0m\u001b[1;33m)\u001b[0m\u001b[1;33m\u001b[0m\u001b[1;33m\u001b[0m\u001b[0m\n\u001b[0m\u001b[0;32m      2\u001b[0m \u001b[0mnp\u001b[0m\u001b[1;33m.\u001b[0m\u001b[0mmean\u001b[0m\u001b[1;33m(\u001b[0m\u001b[0mabs\u001b[0m\u001b[1;33m(\u001b[0m\u001b[0mpreds\u001b[0m \u001b[1;33m-\u001b[0m \u001b[0mtest_y\u001b[0m\u001b[1;33m)\u001b[0m\u001b[1;33m)\u001b[0m\u001b[1;33m\u001b[0m\u001b[1;33m\u001b[0m\u001b[0m\n",
      "\u001b[1;32m~\\Anaconda3\\lib\\site-packages\\pandas\\core\\frame.py\u001b[0m in \u001b[0;36mapply\u001b[1;34m(self, func, axis, broadcast, raw, reduce, result_type, args, **kwds)\u001b[0m\n\u001b[0;32m   6485\u001b[0m                          \u001b[0margs\u001b[0m\u001b[1;33m=\u001b[0m\u001b[0margs\u001b[0m\u001b[1;33m,\u001b[0m\u001b[1;33m\u001b[0m\u001b[1;33m\u001b[0m\u001b[0m\n\u001b[0;32m   6486\u001b[0m                          kwds=kwds)\n\u001b[1;32m-> 6487\u001b[1;33m         \u001b[1;32mreturn\u001b[0m \u001b[0mop\u001b[0m\u001b[1;33m.\u001b[0m\u001b[0mget_result\u001b[0m\u001b[1;33m(\u001b[0m\u001b[1;33m)\u001b[0m\u001b[1;33m\u001b[0m\u001b[1;33m\u001b[0m\u001b[0m\n\u001b[0m\u001b[0;32m   6488\u001b[0m \u001b[1;33m\u001b[0m\u001b[0m\n\u001b[0;32m   6489\u001b[0m     \u001b[1;32mdef\u001b[0m \u001b[0mapplymap\u001b[0m\u001b[1;33m(\u001b[0m\u001b[0mself\u001b[0m\u001b[1;33m,\u001b[0m \u001b[0mfunc\u001b[0m\u001b[1;33m)\u001b[0m\u001b[1;33m:\u001b[0m\u001b[1;33m\u001b[0m\u001b[1;33m\u001b[0m\u001b[0m\n",
      "\u001b[1;32m~\\Anaconda3\\lib\\site-packages\\pandas\\core\\apply.py\u001b[0m in \u001b[0;36mget_result\u001b[1;34m(self)\u001b[0m\n\u001b[0;32m    149\u001b[0m             \u001b[1;32mreturn\u001b[0m \u001b[0mself\u001b[0m\u001b[1;33m.\u001b[0m\u001b[0mapply_raw\u001b[0m\u001b[1;33m(\u001b[0m\u001b[1;33m)\u001b[0m\u001b[1;33m\u001b[0m\u001b[1;33m\u001b[0m\u001b[0m\n\u001b[0;32m    150\u001b[0m \u001b[1;33m\u001b[0m\u001b[0m\n\u001b[1;32m--> 151\u001b[1;33m         \u001b[1;32mreturn\u001b[0m \u001b[0mself\u001b[0m\u001b[1;33m.\u001b[0m\u001b[0mapply_standard\u001b[0m\u001b[1;33m(\u001b[0m\u001b[1;33m)\u001b[0m\u001b[1;33m\u001b[0m\u001b[1;33m\u001b[0m\u001b[0m\n\u001b[0m\u001b[0;32m    152\u001b[0m \u001b[1;33m\u001b[0m\u001b[0m\n\u001b[0;32m    153\u001b[0m     \u001b[1;32mdef\u001b[0m \u001b[0mapply_empty_result\u001b[0m\u001b[1;33m(\u001b[0m\u001b[0mself\u001b[0m\u001b[1;33m)\u001b[0m\u001b[1;33m:\u001b[0m\u001b[1;33m\u001b[0m\u001b[1;33m\u001b[0m\u001b[0m\n",
      "\u001b[1;32m~\\Anaconda3\\lib\\site-packages\\pandas\\core\\apply.py\u001b[0m in \u001b[0;36mapply_standard\u001b[1;34m(self)\u001b[0m\n\u001b[0;32m    255\u001b[0m \u001b[1;33m\u001b[0m\u001b[0m\n\u001b[0;32m    256\u001b[0m         \u001b[1;31m# compute the result using the series generator\u001b[0m\u001b[1;33m\u001b[0m\u001b[1;33m\u001b[0m\u001b[1;33m\u001b[0m\u001b[0m\n\u001b[1;32m--> 257\u001b[1;33m         \u001b[0mself\u001b[0m\u001b[1;33m.\u001b[0m\u001b[0mapply_series_generator\u001b[0m\u001b[1;33m(\u001b[0m\u001b[1;33m)\u001b[0m\u001b[1;33m\u001b[0m\u001b[1;33m\u001b[0m\u001b[0m\n\u001b[0m\u001b[0;32m    258\u001b[0m \u001b[1;33m\u001b[0m\u001b[0m\n\u001b[0;32m    259\u001b[0m         \u001b[1;31m# wrap results\u001b[0m\u001b[1;33m\u001b[0m\u001b[1;33m\u001b[0m\u001b[1;33m\u001b[0m\u001b[0m\n",
      "\u001b[1;32m~\\Anaconda3\\lib\\site-packages\\pandas\\core\\apply.py\u001b[0m in \u001b[0;36mapply_series_generator\u001b[1;34m(self)\u001b[0m\n\u001b[0;32m    284\u001b[0m             \u001b[1;32mtry\u001b[0m\u001b[1;33m:\u001b[0m\u001b[1;33m\u001b[0m\u001b[1;33m\u001b[0m\u001b[0m\n\u001b[0;32m    285\u001b[0m                 \u001b[1;32mfor\u001b[0m \u001b[0mi\u001b[0m\u001b[1;33m,\u001b[0m \u001b[0mv\u001b[0m \u001b[1;32min\u001b[0m \u001b[0menumerate\u001b[0m\u001b[1;33m(\u001b[0m\u001b[0mseries_gen\u001b[0m\u001b[1;33m)\u001b[0m\u001b[1;33m:\u001b[0m\u001b[1;33m\u001b[0m\u001b[1;33m\u001b[0m\u001b[0m\n\u001b[1;32m--> 286\u001b[1;33m                     \u001b[0mresults\u001b[0m\u001b[1;33m[\u001b[0m\u001b[0mi\u001b[0m\u001b[1;33m]\u001b[0m \u001b[1;33m=\u001b[0m \u001b[0mself\u001b[0m\u001b[1;33m.\u001b[0m\u001b[0mf\u001b[0m\u001b[1;33m(\u001b[0m\u001b[0mv\u001b[0m\u001b[1;33m)\u001b[0m\u001b[1;33m\u001b[0m\u001b[1;33m\u001b[0m\u001b[0m\n\u001b[0m\u001b[0;32m    287\u001b[0m                     \u001b[0mkeys\u001b[0m\u001b[1;33m.\u001b[0m\u001b[0mappend\u001b[0m\u001b[1;33m(\u001b[0m\u001b[0mv\u001b[0m\u001b[1;33m.\u001b[0m\u001b[0mname\u001b[0m\u001b[1;33m)\u001b[0m\u001b[1;33m\u001b[0m\u001b[1;33m\u001b[0m\u001b[0m\n\u001b[0;32m    288\u001b[0m             \u001b[1;32mexcept\u001b[0m \u001b[0mException\u001b[0m \u001b[1;32mas\u001b[0m \u001b[0me\u001b[0m\u001b[1;33m:\u001b[0m\u001b[1;33m\u001b[0m\u001b[1;33m\u001b[0m\u001b[0m\n",
      "\u001b[1;32m<ipython-input-365-8255b5d0fb83>\u001b[0m in \u001b[0;36mbaseline\u001b[1;34m(x)\u001b[0m\n\u001b[0;32m      1\u001b[0m \u001b[1;32mdef\u001b[0m \u001b[0mbaseline\u001b[0m\u001b[1;33m(\u001b[0m\u001b[0mx\u001b[0m\u001b[1;33m)\u001b[0m\u001b[1;33m:\u001b[0m\u001b[1;33m\u001b[0m\u001b[1;33m\u001b[0m\u001b[0m\n\u001b[0;32m      2\u001b[0m     \u001b[0mres\u001b[0m \u001b[1;33m=\u001b[0m \u001b[1;36m1\u001b[0m\u001b[1;33m\u001b[0m\u001b[1;33m\u001b[0m\u001b[0m\n\u001b[1;32m----> 3\u001b[1;33m     \u001b[1;32mif\u001b[0m \u001b[0mx\u001b[0m\u001b[1;33m[\u001b[0m\u001b[1;34m'W/L'\u001b[0m\u001b[1;33m]\u001b[0m \u001b[1;33m==\u001b[0m \u001b[0mx\u001b[0m\u001b[1;33m[\u001b[0m\u001b[1;34m'Opp_W/L'\u001b[0m\u001b[1;33m]\u001b[0m\u001b[1;33m:\u001b[0m\u001b[1;33m\u001b[0m\u001b[1;33m\u001b[0m\u001b[0m\n\u001b[0m\u001b[0;32m      4\u001b[0m         \u001b[1;32mif\u001b[0m \u001b[0mx\u001b[0m\u001b[1;33m[\u001b[0m\u001b[1;34m'PF'\u001b[0m\u001b[1;33m]\u001b[0m \u001b[1;33m>\u001b[0m \u001b[0mx\u001b[0m\u001b[1;33m[\u001b[0m\u001b[1;34m'Opp_PF'\u001b[0m\u001b[1;33m]\u001b[0m\u001b[1;33m:\u001b[0m\u001b[1;33m\u001b[0m\u001b[1;33m\u001b[0m\u001b[0m\n\u001b[0;32m      5\u001b[0m             \u001b[0mres\u001b[0m \u001b[1;33m=\u001b[0m \u001b[1;36m1\u001b[0m\u001b[1;33m\u001b[0m\u001b[1;33m\u001b[0m\u001b[0m\n",
      "\u001b[1;32m~\\Anaconda3\\lib\\site-packages\\pandas\\core\\series.py\u001b[0m in \u001b[0;36m__getitem__\u001b[1;34m(self, key)\u001b[0m\n\u001b[0;32m    866\u001b[0m         \u001b[0mkey\u001b[0m \u001b[1;33m=\u001b[0m \u001b[0mcom\u001b[0m\u001b[1;33m.\u001b[0m\u001b[0mapply_if_callable\u001b[0m\u001b[1;33m(\u001b[0m\u001b[0mkey\u001b[0m\u001b[1;33m,\u001b[0m \u001b[0mself\u001b[0m\u001b[1;33m)\u001b[0m\u001b[1;33m\u001b[0m\u001b[1;33m\u001b[0m\u001b[0m\n\u001b[0;32m    867\u001b[0m         \u001b[1;32mtry\u001b[0m\u001b[1;33m:\u001b[0m\u001b[1;33m\u001b[0m\u001b[1;33m\u001b[0m\u001b[0m\n\u001b[1;32m--> 868\u001b[1;33m             \u001b[0mresult\u001b[0m \u001b[1;33m=\u001b[0m \u001b[0mself\u001b[0m\u001b[1;33m.\u001b[0m\u001b[0mindex\u001b[0m\u001b[1;33m.\u001b[0m\u001b[0mget_value\u001b[0m\u001b[1;33m(\u001b[0m\u001b[0mself\u001b[0m\u001b[1;33m,\u001b[0m \u001b[0mkey\u001b[0m\u001b[1;33m)\u001b[0m\u001b[1;33m\u001b[0m\u001b[1;33m\u001b[0m\u001b[0m\n\u001b[0m\u001b[0;32m    869\u001b[0m \u001b[1;33m\u001b[0m\u001b[0m\n\u001b[0;32m    870\u001b[0m             \u001b[1;32mif\u001b[0m \u001b[1;32mnot\u001b[0m \u001b[0mis_scalar\u001b[0m\u001b[1;33m(\u001b[0m\u001b[0mresult\u001b[0m\u001b[1;33m)\u001b[0m\u001b[1;33m:\u001b[0m\u001b[1;33m\u001b[0m\u001b[1;33m\u001b[0m\u001b[0m\n",
      "\u001b[1;32m~\\Anaconda3\\lib\\site-packages\\pandas\\core\\indexes\\base.py\u001b[0m in \u001b[0;36mget_value\u001b[1;34m(self, series, key)\u001b[0m\n\u001b[0;32m   4386\u001b[0m                     \u001b[1;32mraise\u001b[0m \u001b[0mInvalidIndexError\u001b[0m\u001b[1;33m(\u001b[0m\u001b[0mkey\u001b[0m\u001b[1;33m)\u001b[0m\u001b[1;33m\u001b[0m\u001b[1;33m\u001b[0m\u001b[0m\n\u001b[0;32m   4387\u001b[0m                 \u001b[1;32melse\u001b[0m\u001b[1;33m:\u001b[0m\u001b[1;33m\u001b[0m\u001b[1;33m\u001b[0m\u001b[0m\n\u001b[1;32m-> 4388\u001b[1;33m                     \u001b[1;32mraise\u001b[0m \u001b[0me1\u001b[0m\u001b[1;33m\u001b[0m\u001b[1;33m\u001b[0m\u001b[0m\n\u001b[0m\u001b[0;32m   4389\u001b[0m             \u001b[1;32mexcept\u001b[0m \u001b[0mException\u001b[0m\u001b[1;33m:\u001b[0m  \u001b[1;31m# pragma: no cover\u001b[0m\u001b[1;33m\u001b[0m\u001b[1;33m\u001b[0m\u001b[0m\n\u001b[0;32m   4390\u001b[0m                 \u001b[1;32mraise\u001b[0m \u001b[0me1\u001b[0m\u001b[1;33m\u001b[0m\u001b[1;33m\u001b[0m\u001b[0m\n",
      "\u001b[1;32m~\\Anaconda3\\lib\\site-packages\\pandas\\core\\indexes\\base.py\u001b[0m in \u001b[0;36mget_value\u001b[1;34m(self, series, key)\u001b[0m\n\u001b[0;32m   4372\u001b[0m         \u001b[1;32mtry\u001b[0m\u001b[1;33m:\u001b[0m\u001b[1;33m\u001b[0m\u001b[1;33m\u001b[0m\u001b[0m\n\u001b[0;32m   4373\u001b[0m             return self._engine.get_value(s, k,\n\u001b[1;32m-> 4374\u001b[1;33m                                           tz=getattr(series.dtype, 'tz', None))\n\u001b[0m\u001b[0;32m   4375\u001b[0m         \u001b[1;32mexcept\u001b[0m \u001b[0mKeyError\u001b[0m \u001b[1;32mas\u001b[0m \u001b[0me1\u001b[0m\u001b[1;33m:\u001b[0m\u001b[1;33m\u001b[0m\u001b[1;33m\u001b[0m\u001b[0m\n\u001b[0;32m   4376\u001b[0m             \u001b[1;32mif\u001b[0m \u001b[0mlen\u001b[0m\u001b[1;33m(\u001b[0m\u001b[0mself\u001b[0m\u001b[1;33m)\u001b[0m \u001b[1;33m>\u001b[0m \u001b[1;36m0\u001b[0m \u001b[1;32mand\u001b[0m \u001b[1;33m(\u001b[0m\u001b[0mself\u001b[0m\u001b[1;33m.\u001b[0m\u001b[0mholds_integer\u001b[0m\u001b[1;33m(\u001b[0m\u001b[1;33m)\u001b[0m \u001b[1;32mor\u001b[0m \u001b[0mself\u001b[0m\u001b[1;33m.\u001b[0m\u001b[0mis_boolean\u001b[0m\u001b[1;33m(\u001b[0m\u001b[1;33m)\u001b[0m\u001b[1;33m)\u001b[0m\u001b[1;33m:\u001b[0m\u001b[1;33m\u001b[0m\u001b[1;33m\u001b[0m\u001b[0m\n",
      "\u001b[1;32mpandas\\_libs\\index.pyx\u001b[0m in \u001b[0;36mpandas._libs.index.IndexEngine.get_value\u001b[1;34m()\u001b[0m\n",
      "\u001b[1;32mpandas\\_libs\\index.pyx\u001b[0m in \u001b[0;36mpandas._libs.index.IndexEngine.get_value\u001b[1;34m()\u001b[0m\n",
      "\u001b[1;32mpandas\\_libs\\index.pyx\u001b[0m in \u001b[0;36mpandas._libs.index.IndexEngine.get_loc\u001b[1;34m()\u001b[0m\n",
      "\u001b[1;32mpandas\\_libs\\hashtable_class_helper.pxi\u001b[0m in \u001b[0;36mpandas._libs.hashtable.PyObjectHashTable.get_item\u001b[1;34m()\u001b[0m\n",
      "\u001b[1;32mpandas\\_libs\\hashtable_class_helper.pxi\u001b[0m in \u001b[0;36mpandas._libs.hashtable.PyObjectHashTable.get_item\u001b[1;34m()\u001b[0m\n",
      "\u001b[1;31mKeyError\u001b[0m: ('Opp_W/L', 'occurred at index 0')"
     ]
    }
   ],
   "source": [
    "preds = test1.apply(baseline, axis = 1)\n",
    "np.mean(abs(preds - test_y))"
   ]
  },
  {
   "cell_type": "code",
   "execution_count": 460,
   "metadata": {},
   "outputs": [],
   "source": [
    "easy_feat = train1['PF'] - train1['Opp_PF']"
   ]
  },
  {
   "cell_type": "code",
   "execution_count": 399,
   "metadata": {},
   "outputs": [
    {
     "data": {
      "image/png": "[encoded data removed]",
      "text/plain": [
       "<Figure size 432x288 with 1 Axes>"
      ]
     },
     "metadata": {
      "needs_background": "light"
     },
     "output_type": "display_data"
    }
   ],
   "source": [
    "Threes = df.groupby('Season').mean()[['3PAr','FTr']].plot(kind='line',title='Average 3PAr and FTr from 1993-2019',legend=True)"
   ]
  },
  {
   "cell_type": "code",
   "execution_count": 404,
   "metadata": {},
   "outputs": [
    {
     "data": {
      "image/png": "[encoded data removed]",
      "text/plain": [
       "<Figure size 432x288 with 1 Axes>"
      ]
     },
     "metadata": {
      "needs_background": "light"
     },
     "output_type": "display_data"
    }
   ],
   "source": [
    "Points = df.groupby('Season').mean()[['PF','ORtg','Pace']].plot(kind='line',title='Averages from 1993-2019',legend=True)"
   ]
  },
  {
   "cell_type": "code",
   "execution_count": 405,
   "metadata": {},
   "outputs": [
    {
     "data": {
      "image/png": "[encoded data removed]",
      "text/plain": [
       "<Figure size 432x288 with 1 Axes>"
      ]
     },
     "metadata": {
      "needs_background": "light"
     },
     "output_type": "display_data"
    }
   ],
   "source": [
    "stlblk = df.groupby('Season').mean()[['STL%','BLK%','TOV%']].plot(kind='line',title='Average Steals, Blocks and Turnovers from 1993-2019',legend=True)"
   ]
  },
  {
   "cell_type": "code",
   "execution_count": 417,
   "metadata": {},
   "outputs": [
    {
     "data": {
      "image/png": "[encoded data removed]",
      "text/plain": [
       "<Figure size 432x288 with 1 Axes>"
      ]
     },
     "metadata": {
      "needs_background": "light"
     },
     "output_type": "display_data"
    }
   ],
   "source": [
    "Rebounds = df.groupby('Season').mean()[['ORB%','DRB%']].plot(kind='line',title='Averages Rebounds from 1993-2019',legend=True)"
   ]
  },
  {
   "cell_type": "code",
   "execution_count": 412,
   "metadata": {},
   "outputs": [],
   "source": [
    "fig = Threes.get_figure()\n",
    "fig.savefig('threes.png')"
   ]
  },
  {
   "cell_type": "code",
   "execution_count": 413,
   "metadata": {},
   "outputs": [],
   "source": [
    "fig = Points.get_figure()\n",
    "fig.savefig('points.png')"
   ]
  },
  {
   "cell_type": "code",
   "execution_count": 414,
   "metadata": {},
   "outputs": [],
   "source": [
    "fig = stlblk.get_figure()\n",
    "fig.savefig('sbt.png')"
   ]
  },
  {
   "cell_type": "code",
   "execution_count": 418,
   "metadata": {},
   "outputs": [],
   "source": [
    "fig = Rebounds.get_figure()\n",
    "fig.savefig('boards.png')"
   ]
  },
  {
   "cell_type": "code",
   "execution_count": 445,
   "metadata": {},
   "outputs": [],
   "source": [
    "war = df[df['Season'] == 2018]\n",
    "war = war[war['Team'] == 'GSW']\n",
    "war = war.set_index('G')"
   ]
  },
  {
   "cell_type": "code",
   "execution_count": 446,
   "metadata": {},
   "outputs": [
    {
     "data": {
      "image/png": "[encoded data removed]",
      "text/plain": [
       "<Figure size 432x288 with 1 Axes>"
      ]
     },
     "metadata": {
      "needs_background": "light"
     },
     "output_type": "display_data"
    }
   ],
   "source": [
    "war = pd.Series(war['PF']).rolling(window=10).mean().iloc[10-1:].plot(kind='line', title = 'Warriors Points over 10 Week Rolling Average 2019', legend=True)"
   ]
  },
  {
   "cell_type": "code",
   "execution_count": 447,
   "metadata": {},
   "outputs": [],
   "source": [
    "fig = war.get_figure()\n",
    "fig.savefig('war.png')"
   ]
  },
  {
   "cell_type": "code",
   "execution_count": 451,
   "metadata": {},
   "outputs": [],
   "source": [
    "rand_pred = np.random.randint(2, size=len(train))\n",
    "rand_pred_test = np.random.randint(2, size=len(test))"
   ]
  },
  {
   "cell_type": "code",
   "execution_count": 450,
   "metadata": {},
   "outputs": [
    {
     "data": {
      "text/plain": [
       "0.4972716867630227"
      ]
     },
     "execution_count": 450,
     "metadata": {},
     "output_type": "execute_result"
    }
   ],
   "source": [
    "np.mean(abs(rand_pred-train_y))"
   ]
  },
  {
   "cell_type": "code",
   "execution_count": 452,
   "metadata": {},
   "outputs": [
    {
     "data": {
      "text/plain": [
       "0.49596323438082224"
      ]
     },
     "execution_count": 452,
     "metadata": {},
     "output_type": "execute_result"
    }
   ],
   "source": [
    "np.mean(abs(rand_pred_test-test_y))"
   ]
  },
  {
   "cell_type": "code",
   "execution_count": 457,
   "metadata": {},
   "outputs": [],
   "source": [
    "basic_pred = [0] * len(test)"
   ]
  },
  {
   "cell_type": "code",
   "execution_count": 458,
   "metadata": {},
   "outputs": [
    {
     "data": {
      "text/plain": [
       "0.49447273630604893"
      ]
     },
     "execution_count": 458,
     "metadata": {},
     "output_type": "execute_result"
    }
   ],
   "source": [
    "from sklearn.metrics import mean_squared_error\n",
    "mean_squared_error(test_y, basic_pred)"
   ]
  },
  {
   "cell_type": "code",
   "execution_count": 467,
   "metadata": {},
   "outputs": [],
   "source": [
    "pf_diff = train1['PF'] - train1['PA']"
   ]
  },
  {
   "cell_type": "code",
   "execution_count": 504,
   "metadata": {},
   "outputs": [],
   "source": [
    "difs = []\n",
    "for i in ['W/L', 'PF', 'PA', 'ORtg', 'DRtg', 'Pace',\n",
    "       'FTr', '3PAr', 'TS%', 'TRB%', 'AST%', 'STL%', 'BLK%', 'eFG%', 'TOV%',\n",
    "       'ORB%', 'FT/FGA', 'Opp_eFG%', 'Opp_TOV%', 'DRB%', 'Opp_FT/FGA']:\n",
    "    opp = 'Oppo_' + i\n",
    "    add = train1[i].astype(float) - train1[opp].astype(float)\n",
    "    difs.append(add)"
   ]
  },
  {
   "cell_type": "code",
   "execution_count": 522,
   "metadata": {},
   "outputs": [],
   "source": [
    "difs = []\n",
    "for i in ['W/L', 'PF', 'PA', 'ORtg', 'DRtg', 'Pace',\n",
    "       'FTr', '3PAr', 'TS%', 'TRB%', 'AST%', 'STL%', 'BLK%', 'eFG%', 'TOV%',\n",
    "       'ORB%', 'FT/FGA', 'Opp_eFG%', 'Opp_TOV%', 'DRB%', 'Opp_FT/FGA']:\n",
    "    opp = 'Oppo_' + i\n",
    "    add = valid1[i].astype(float) - valid1[opp].astype(float)\n",
    "    difs.append(add)"
   ]
  },
  {
   "cell_type": "code",
   "execution_count": 524,
   "metadata": {},
   "outputs": [],
   "source": [
    "difs = []\n",
    "for i in ['W/L', 'PF', 'PA', 'ORtg', 'DRtg', 'Pace',\n",
    "       'FTr', '3PAr', 'TS%', 'TRB%', 'AST%', 'STL%', 'BLK%', 'eFG%', 'TOV%',\n",
    "       'ORB%', 'FT/FGA', 'Opp_eFG%', 'Opp_TOV%', 'DRB%', 'Opp_FT/FGA']:\n",
    "    opp = 'Oppo_' + i\n",
    "    add = test1[i].astype(float) - test1[opp].astype(float)\n",
    "    difs.append(add)"
   ]
  },
  {
   "cell_type": "code",
   "execution_count": 523,
   "metadata": {},
   "outputs": [],
   "source": [
    "valid_difs = pd.DataFrame(difs).transpose()"
   ]
  },
  {
   "cell_type": "code",
   "execution_count": 525,
   "metadata": {},
   "outputs": [],
   "source": [
    "test_difs = pd.DataFrame(difs).transpose()"
   ]
  },
  {
   "cell_type": "code",
   "execution_count": 508,
   "metadata": {},
   "outputs": [],
   "source": [
    "train_difs = pd.DataFrame(difs).transpose()"
   ]
  },
  {
   "cell_type": "code",
   "execution_count": 521,
   "metadata": {},
   "outputs": [],
   "source": [
    "test1.columns = ['G', 'Season', 'Date', 'Team', 'Away', 'Opp', 'W/L', 'PF', 'PA', 'ORtg',\n",
    "       'DRtg', 'Pace', 'FTr', '3PAr', 'TS%', 'TRB%', 'AST%', 'STL%', 'BLK%',\n",
    "       'eFG%', 'TOV%', 'ORB%', 'FT/FGA', 'Opp_eFG%', 'Opp_TOV%', 'DRB%',\n",
    "       'Opp_FT/FGA', 'Oppo_W/L', 'Oppo_PF', 'Oppo_PA', 'Oppo_ORtg', 'Oppo_DRtg',\n",
    "       'Oppo_Pace', 'Oppo_FTr', 'Oppo_3PAr', 'Oppo_TS%', 'Oppo_TRB%', 'Oppo_AST%',\n",
    "       'Oppo_STL%', 'Oppo_BLK%', 'Oppo_eFG%', 'Oppo_TOV%', 'Oppo_ORB%',\n",
    "       'Oppo_FT/FGA', 'Oppo_Opp_eFG%', 'Oppo_Opp_TOV%', 'Oppo_DRB%',\n",
    "       'Oppo_Opp_FT/FGA', 'Win']"
   ]
  },
  {
   "cell_type": "code",
   "execution_count": 551,
   "metadata": {},
   "outputs": [],
   "source": [
    "test_difs.columns = ['W/L', 'PF', 'PA', 'ORtg', 'DRtg', 'Pace',\n",
    "       'FTr', '3PAr', 'TS%', 'TRB%', 'AST%', 'STL%', 'BLK%', 'eFG%', 'TOV%',\n",
    "       'ORB%', 'FT/FGA', 'Opp_eFG%', 'Opp_TOV%', 'DRB%', 'Opp_FT/FGA', 'Away']"
   ]
  },
  {
   "cell_type": "code",
   "execution_count": 526,
   "metadata": {},
   "outputs": [],
   "source": [
    "train_difs['Away'] = train1['Away']\n",
    "valid_difs['Away'] = valid1['Away']\n",
    "test_difs['Away'] = test1['Away']"
   ]
  },
  {
   "cell_type": "code",
   "execution_count": 538,
   "metadata": {},
   "outputs": [
    {
     "name": "stderr",
     "output_type": "stream",
     "text": [
      "C:\\Users\\brand\\Anaconda3\\lib\\site-packages\\sklearn\\linear_model\\logistic.py:433: FutureWarning: Default solver will be changed to 'lbfgs' in 0.22. Specify a solver to silence this warning.\n",
      "  FutureWarning)\n"
     ]
    },
    {
     "data": {
      "text/plain": [
       "LogisticRegression(C=1, class_weight=None, dual=False, fit_intercept=True,\n",
       "          intercept_scaling=1, max_iter=100, multi_class='warn',\n",
       "          n_jobs=None, penalty='l2', random_state=None, solver='warn',\n",
       "          tol=0.0001, verbose=0, warm_start=False)"
      ]
     },
     "execution_count": 538,
     "metadata": {},
     "output_type": "execute_result"
    }
   ],
   "source": [
    "lm = linear_model.LogisticRegression(C=1)\n",
    "lm.fit(train_difs[['W/L','PF', 'Away','DRB%', 'ORtg']], train_y)"
   ]
  },
  {
   "cell_type": "code",
   "execution_count": 543,
   "metadata": {},
   "outputs": [],
   "source": [
    "preds = lm.predict(valid_difs[['W/L','PF', 'Away','DRB%', 'ORtg']])"
   ]
  },
  {
   "cell_type": "code",
   "execution_count": 544,
   "metadata": {},
   "outputs": [
    {
     "data": {
      "text/plain": [
       "0.3426086956521739"
      ]
     },
     "execution_count": 544,
     "metadata": {},
     "output_type": "execute_result"
    }
   ],
   "source": [
    "np.mean(abs(preds - valid_y))"
   ]
  },
  {
   "cell_type": "code",
   "execution_count": 535,
   "metadata": {},
   "outputs": [
    {
     "name": "stderr",
     "output_type": "stream",
     "text": [
      "C:\\Users\\brand\\Anaconda3\\lib\\site-packages\\sklearn\\linear_model\\logistic.py:433: FutureWarning: Default solver will be changed to 'lbfgs' in 0.22. Specify a solver to silence this warning.\n",
      "  FutureWarning)\n"
     ]
    },
    {
     "name": "stdout",
     "output_type": "stream",
     "text": [
      "C = 0.001validaction accuracy: 0.6701863354037267\n"
     ]
    },
    {
     "name": "stderr",
     "output_type": "stream",
     "text": [
      "C:\\Users\\brand\\Anaconda3\\lib\\site-packages\\sklearn\\linear_model\\logistic.py:433: FutureWarning: Default solver will be changed to 'lbfgs' in 0.22. Specify a solver to silence this warning.\n",
      "  FutureWarning)\n"
     ]
    },
    {
     "name": "stdout",
     "output_type": "stream",
     "text": [
      "C = 0.01validaction accuracy: 0.6732919254658385\n"
     ]
    },
    {
     "name": "stderr",
     "output_type": "stream",
     "text": [
      "C:\\Users\\brand\\Anaconda3\\lib\\site-packages\\sklearn\\linear_model\\logistic.py:433: FutureWarning: Default solver will be changed to 'lbfgs' in 0.22. Specify a solver to silence this warning.\n",
      "  FutureWarning)\n"
     ]
    },
    {
     "name": "stdout",
     "output_type": "stream",
     "text": [
      "C = 0.1validaction accuracy: 0.6715527950310559\n"
     ]
    },
    {
     "name": "stderr",
     "output_type": "stream",
     "text": [
      "C:\\Users\\brand\\Anaconda3\\lib\\site-packages\\sklearn\\linear_model\\logistic.py:433: FutureWarning: Default solver will be changed to 'lbfgs' in 0.22. Specify a solver to silence this warning.\n",
      "  FutureWarning)\n"
     ]
    },
    {
     "name": "stdout",
     "output_type": "stream",
     "text": [
      "C = 1validaction accuracy: 0.6705590062111801\n"
     ]
    },
    {
     "name": "stderr",
     "output_type": "stream",
     "text": [
      "C:\\Users\\brand\\Anaconda3\\lib\\site-packages\\sklearn\\linear_model\\logistic.py:433: FutureWarning: Default solver will be changed to 'lbfgs' in 0.22. Specify a solver to silence this warning.\n",
      "  FutureWarning)\n"
     ]
    },
    {
     "name": "stdout",
     "output_type": "stream",
     "text": [
      "C = 10validaction accuracy: 0.670807453416149\n"
     ]
    },
    {
     "name": "stderr",
     "output_type": "stream",
     "text": [
      "C:\\Users\\brand\\Anaconda3\\lib\\site-packages\\sklearn\\linear_model\\logistic.py:433: FutureWarning: Default solver will be changed to 'lbfgs' in 0.22. Specify a solver to silence this warning.\n",
      "  FutureWarning)\n"
     ]
    },
    {
     "name": "stdout",
     "output_type": "stream",
     "text": [
      "C = 100validaction accuracy: 0.6710559006211181\n"
     ]
    }
   ],
   "source": [
    "for i in [0.001,0.01,0.1,1,10,100,]:\n",
    "    lm = linear_model.LogisticRegression(C=i)\n",
    "    lm.fit(train_difs, train_y)\n",
    "    preds = lm.predict(valid_difs)\n",
    "    acc = 1 - np.mean(abs(preds - valid_y))\n",
    "    print('C = ' + str(i) + 'validaction accuracy: ' + str(acc))"
   ]
  },
  {
   "cell_type": "code",
   "execution_count": 570,
   "metadata": {},
   "outputs": [
    {
     "name": "stderr",
     "output_type": "stream",
     "text": [
      "C:\\Users\\brand\\Anaconda3\\lib\\site-packages\\sklearn\\linear_model\\logistic.py:433: FutureWarning: Default solver will be changed to 'lbfgs' in 0.22. Specify a solver to silence this warning.\n",
      "  FutureWarning)\n"
     ]
    },
    {
     "data": {
      "text/plain": [
       "0.6604148552974786"
      ]
     },
     "execution_count": 570,
     "metadata": {},
     "output_type": "execute_result"
    }
   ],
   "source": [
    "lm = linear_model.LogisticRegression(C=0.01)\n",
    "lm.fit(train_difs, train_y)\n",
    "preds = lm.predict(test_difs)\n",
    "acc = 1 - np.mean(abs(preds - test_y))\n",
    "acc"
   ]
  },
  {
   "cell_type": "code",
   "execution_count": 569,
   "metadata": {},
   "outputs": [
    {
     "name": "stdout",
     "output_type": "stream",
     "text": [
      "C = 0.001validaction accuracy: 0.4752658838883689\n",
      "C = 0.01validaction accuracy: 0.47527073849091406\n",
      "C = 0.1validaction accuracy: 0.4752815297577647\n",
      "C = 1validaction accuracy: 0.4753002641020192\n",
      "C = 10validaction accuracy: 0.4753510719687156\n",
      "C = 100validaction accuracy: 0.4754915409099757\n"
     ]
    }
   ],
   "source": [
    "for i in [0.001,0.01,0.1,1,10,100,]:\n",
    "    lm = linear_model.Ridge(i, fit_intercept = False)\n",
    "    lm.fit(train_difs, train_y)\n",
    "    preds = lm.predict(valid_difs)\n",
    "    acc = 1 - np.mean(abs(preds - valid_y))\n",
    "    print('C = ' + str(i) + 'validaction accuracy: ' + str(acc))"
   ]
  },
  {
   "cell_type": "code",
   "execution_count": 545,
   "metadata": {},
   "outputs": [],
   "source": [
    "from sklearn.decomposition import PCA\n",
    "pca = PCA(n_components=22)"
   ]
  },
  {
   "cell_type": "code",
   "execution_count": 560,
   "metadata": {},
   "outputs": [
    {
     "data": {
      "text/plain": [
       "array([-1.73104353e-03,  5.57595422e-01,  6.06784647e-01,  3.22461057e-01,\n",
       "        3.76662397e-01,  2.26802116e-01,  6.51156622e-04,  1.11984206e-03,\n",
       "        1.42614711e-03, -4.62491609e-02, -5.40365019e-02, -1.19326011e-02,\n",
       "       -3.61691552e-02,  1.41789196e-03, -3.01363520e-02,  3.34123002e-02,\n",
       "        6.98641656e-04,  1.66253972e-03, -3.26044487e-02, -1.18302906e-01,\n",
       "        3.73721377e-04, -8.15654239e-06])"
      ]
     },
     "execution_count": 560,
     "metadata": {},
     "output_type": "execute_result"
    }
   ],
   "source": [
    "pca.fit(X)\n",
    "pca.components_[0]"
   ]
  },
  {
   "cell_type": "code",
   "execution_count": 554,
   "metadata": {},
   "outputs": [],
   "source": [
    "X = pd.concat([train_difs,valid_difs,test_difs])"
   ]
  },
  {
   "cell_type": "code",
   "execution_count": 562,
   "metadata": {},
   "outputs": [],
   "source": [
    "Xpca_train = pd.DataFrame(np.matmul(train_difs, pca.components_.T))\n",
    "Xpca_valid = pd.DataFrame(np.matmul(valid_difs, pca.components_.T))\n",
    "Xpca_test = pd.DataFrame(np.matmul(test_difs, pca.components_.T))"
   ]
  },
  {
   "cell_type": "code",
   "execution_count": 561,
   "metadata": {},
   "outputs": [],
   "source": [
    "train_difs = train_difs.astype(float)\n",
    "valid_difs = valid_difs.astype(float)\n",
    "test_difs = test_difs.astype(float)"
   ]
  },
  {
   "cell_type": "code",
   "execution_count": 676,
   "metadata": {},
   "outputs": [
    {
     "name": "stdout",
     "output_type": "stream",
     "text": [
      "C = 0.001 n  = 5 validaction accuracy: 0.6426086956521739\n",
      "C = 0.001 n  = 10 validaction accuracy: 0.6468322981366459\n",
      "C = 0.001 n  = 15 validaction accuracy: 0.6443478260869565\n",
      "C = 0.001 n  = 20 validaction accuracy: 0.6483229813664596\n",
      "C = 0.01 n  = 5 validaction accuracy: 0.6424844720496894\n",
      "C = 0.01 n  = 10 validaction accuracy: 0.6467080745341616\n",
      "C = 0.01 n  = 15 validaction accuracy: 0.6445962732919255\n",
      "C = 0.01 n  = 20 validaction accuracy: 0.6483229813664596\n",
      "C = 0.1 n  = 5 validaction accuracy: 0.6424844720496894\n",
      "C = 0.1 n  = 10 validaction accuracy: 0.6472049689440994\n",
      "C = 0.1 n  = 15 validaction accuracy: 0.6445962732919255\n",
      "C = 0.1 n  = 20 validaction accuracy: 0.6483229813664596\n",
      "C = 1 n  = 5 validaction accuracy: 0.642360248447205\n",
      "C = 1 n  = 10 validaction accuracy: 0.6472049689440994\n",
      "C = 1 n  = 15 validaction accuracy: 0.6445962732919255\n",
      "C = 1 n  = 20 validaction accuracy: 0.6480745341614906\n",
      "C = 10 n  = 5 validaction accuracy: 0.6427329192546584\n",
      "C = 10 n  = 10 validaction accuracy: 0.647080745341615\n",
      "C = 10 n  = 15 validaction accuracy: 0.6445962732919255\n",
      "C = 10 n  = 20 validaction accuracy: 0.6480745341614906\n",
      "C = 100 n  = 5 validaction accuracy: 0.6427329192546584\n",
      "C = 100 n  = 10 validaction accuracy: 0.647080745341615\n",
      "C = 100 n  = 15 validaction accuracy: 0.6445962732919255\n",
      "C = 100 n  = 20 validaction accuracy: 0.6483229813664596\n"
     ]
    }
   ],
   "source": [
    "for i in [0.001,0.01,0.1,1,10,100,]:\n",
    "    for n in range(5,21,5):\n",
    "        x_train = Xpca_train.iloc[:,:n]\n",
    "        x_valid = Xpca_valid.iloc[:,:n]\n",
    "        x_test = Xpca_test.iloc[:,:n]\n",
    "        lm = linear_model.LogisticRegression(C=i, class_weight='balanced', solver = 'liblinear')\n",
    "        lm.fit(x_train, train_y)\n",
    "        y_valid_pred = lm.predict(x_valid)\n",
    "        acc = 1 - np.mean(abs(y_valid_pred - valid_y))\n",
    "        print('C = ' + str(i) + ' n  = ' + str(n) + ' validaction accuracy: ' + str(acc))"
   ]
  },
  {
   "cell_type": "code",
   "execution_count": 610,
   "metadata": {},
   "outputs": [],
   "source": [
    "def last_game(data):\n",
    "    team_data = df.loc[lambda x: (x.Team == data.Team) & (x.Season == data.Season) & (x.G == data.G-1)]\n",
    "    opp_G = df.loc[lambda x: (x.Team == data.Opp) & (x.Season == data.Season) & (x.Date == data.Date)].G.values[0]\n",
    "    opp_data = df.loc[lambda x: (x.Team == data.Opp) & (x.Season == data.Season) & (x.G == opp_G - 1)]\n",
    "    team_dif = datetime.strptime(data.Date, '%Y-%m-%d') - datetime.strptime(team_data.Date.values[0], '%Y-%m-%d')\n",
    "    opp_dif = datetime.strptime(data.Date, '%Y-%m-%d') - datetime.strptime(opp_data.Date.values[0], '%Y-%m-%d')\n",
    "    return [team_dif.days, opp_dif.days]"
   ]
  },
  {
   "cell_type": "code",
   "execution_count": 602,
   "metadata": {},
   "outputs": [
    {
     "data": {
      "text/plain": [
       "2"
      ]
     },
     "execution_count": 602,
     "metadata": {},
     "output_type": "execute_result"
    }
   ],
   "source": [
    "last_game(train.iloc[0])"
   ]
  },
  {
   "cell_type": "code",
   "execution_count": 584,
   "metadata": {},
   "outputs": [],
   "source": [
    "from datetime import datetime"
   ]
  },
  {
   "cell_type": "code",
   "execution_count": 609,
   "metadata": {},
   "outputs": [
    {
     "data": {
      "text/plain": [
       "71"
      ]
     },
     "execution_count": 609,
     "metadata": {},
     "output_type": "execute_result"
    }
   ],
   "source": [
    "data = train.iloc[0]\n",
    "df.loc[lambda x: (x.Team == data.Opp) & (x.Season == data.Season) & (x.Date == data.Date)].G"
   ]
  },
  {
   "cell_type": "code",
   "execution_count": 611,
   "metadata": {},
   "outputs": [],
   "source": [
    "times = []\n",
    "for i in range(len(train)):\n",
    "    times.append(last_game(train.iloc[i]))"
   ]
  },
  {
   "cell_type": "code",
   "execution_count": 614,
   "metadata": {},
   "outputs": [],
   "source": [
    "times_v = []\n",
    "for i in range(len(valid)):\n",
    "    times_v.append(last_game(valid.iloc[i]))\n",
    "times_t = []\n",
    "for i in range(len(test)):\n",
    "    times_t.append(last_game(test.iloc[i]))"
   ]
  },
  {
   "cell_type": "code",
   "execution_count": 612,
   "metadata": {},
   "outputs": [],
   "source": [
    "time_difs = [x[0] - x[1] for x in times]"
   ]
  },
  {
   "cell_type": "code",
   "execution_count": 616,
   "metadata": {},
   "outputs": [],
   "source": [
    "time_difs_v = [x[0] - x[1] for x in times_v]\n",
    "time_difs_t = [x[0] - x[1] for x in times_t]"
   ]
  },
  {
   "cell_type": "code",
   "execution_count": 617,
   "metadata": {},
   "outputs": [],
   "source": [
    "train_difs['days'] = time_difs\n",
    "valid_difs['days'] = time_difs_v\n",
    "test_difs['days'] = time_difs_t"
   ]
  },
  {
   "cell_type": "code",
   "execution_count": 664,
   "metadata": {},
   "outputs": [
    {
     "data": {
      "text/plain": [
       "Index(['W/L', 'PF', 'PA', 'ORtg', 'DRtg', 'Pace', 'FTr', '3PAr', 'TS%', 'TRB%',\n",
       "       'AST%', 'STL%', 'BLK%', 'eFG%', 'TOV%', 'ORB%', 'FT/FGA', 'Opp_eFG%',\n",
       "       'Opp_TOV%', 'DRB%', 'Opp_FT/FGA', 'Away', 'days'],\n",
       "      dtype='object')"
      ]
     },
     "execution_count": 664,
     "metadata": {},
     "output_type": "execute_result"
    }
   ],
   "source": [
    "train_difs.columns"
   ]
  },
  {
   "cell_type": "code",
   "execution_count": 674,
   "metadata": {},
   "outputs": [
    {
     "name": "stderr",
     "output_type": "stream",
     "text": [
      "C:\\Users\\brand\\Anaconda3\\lib\\site-packages\\sklearn\\linear_model\\logistic.py:433: FutureWarning: Default solver will be changed to 'lbfgs' in 0.22. Specify a solver to silence this warning.\n",
      "  FutureWarning)\n"
     ]
    },
    {
     "name": "stdout",
     "output_type": "stream",
     "text": [
      "C = W/Lvalidaction accuracy: 0.6724223602484471W/L\n"
     ]
    },
    {
     "name": "stderr",
     "output_type": "stream",
     "text": [
      "C:\\Users\\brand\\Anaconda3\\lib\\site-packages\\sklearn\\linear_model\\logistic.py:433: FutureWarning: Default solver will be changed to 'lbfgs' in 0.22. Specify a solver to silence this warning.\n",
      "  FutureWarning)\n"
     ]
    },
    {
     "name": "stdout",
     "output_type": "stream",
     "text": [
      "C = PFvalidaction accuracy: 0.6746583850931678PF\n"
     ]
    },
    {
     "name": "stderr",
     "output_type": "stream",
     "text": [
      "C:\\Users\\brand\\Anaconda3\\lib\\site-packages\\sklearn\\linear_model\\logistic.py:433: FutureWarning: Default solver will be changed to 'lbfgs' in 0.22. Specify a solver to silence this warning.\n",
      "  FutureWarning)\n"
     ]
    },
    {
     "name": "stdout",
     "output_type": "stream",
     "text": [
      "C = PAvalidaction accuracy: 0.6746583850931678PA\n"
     ]
    },
    {
     "name": "stderr",
     "output_type": "stream",
     "text": [
      "C:\\Users\\brand\\Anaconda3\\lib\\site-packages\\sklearn\\linear_model\\logistic.py:433: FutureWarning: Default solver will be changed to 'lbfgs' in 0.22. Specify a solver to silence this warning.\n",
      "  FutureWarning)\n"
     ]
    },
    {
     "name": "stdout",
     "output_type": "stream",
     "text": [
      "C = ORtgvalidaction accuracy: 0.6750310559006212ORtg\n"
     ]
    },
    {
     "name": "stderr",
     "output_type": "stream",
     "text": [
      "C:\\Users\\brand\\Anaconda3\\lib\\site-packages\\sklearn\\linear_model\\logistic.py:433: FutureWarning: Default solver will be changed to 'lbfgs' in 0.22. Specify a solver to silence this warning.\n",
      "  FutureWarning)\n"
     ]
    },
    {
     "name": "stdout",
     "output_type": "stream",
     "text": [
      "C = DRtgvalidaction accuracy: 0.675776397515528DRtg\n"
     ]
    },
    {
     "name": "stderr",
     "output_type": "stream",
     "text": [
      "C:\\Users\\brand\\Anaconda3\\lib\\site-packages\\sklearn\\linear_model\\logistic.py:433: FutureWarning: Default solver will be changed to 'lbfgs' in 0.22. Specify a solver to silence this warning.\n",
      "  FutureWarning)\n"
     ]
    },
    {
     "name": "stdout",
     "output_type": "stream",
     "text": [
      "C = Pacevalidaction accuracy: 0.675776397515528Pace\n"
     ]
    },
    {
     "name": "stderr",
     "output_type": "stream",
     "text": [
      "C:\\Users\\brand\\Anaconda3\\lib\\site-packages\\sklearn\\linear_model\\logistic.py:433: FutureWarning: Default solver will be changed to 'lbfgs' in 0.22. Specify a solver to silence this warning.\n",
      "  FutureWarning)\n"
     ]
    },
    {
     "name": "stdout",
     "output_type": "stream",
     "text": [
      "C = FTrvalidaction accuracy: 0.6750310559006212FTr\n"
     ]
    },
    {
     "name": "stderr",
     "output_type": "stream",
     "text": [
      "C:\\Users\\brand\\Anaconda3\\lib\\site-packages\\sklearn\\linear_model\\logistic.py:433: FutureWarning: Default solver will be changed to 'lbfgs' in 0.22. Specify a solver to silence this warning.\n",
      "  FutureWarning)\n"
     ]
    },
    {
     "name": "stdout",
     "output_type": "stream",
     "text": [
      "C = 3PArvalidaction accuracy: 0.67366459627329193PAr\n"
     ]
    },
    {
     "name": "stderr",
     "output_type": "stream",
     "text": [
      "C:\\Users\\brand\\Anaconda3\\lib\\site-packages\\sklearn\\linear_model\\logistic.py:433: FutureWarning: Default solver will be changed to 'lbfgs' in 0.22. Specify a solver to silence this warning.\n",
      "  FutureWarning)\n"
     ]
    },
    {
     "name": "stdout",
     "output_type": "stream",
     "text": [
      "C = TS%validaction accuracy: 0.675776397515528TS%\n"
     ]
    },
    {
     "name": "stderr",
     "output_type": "stream",
     "text": [
      "C:\\Users\\brand\\Anaconda3\\lib\\site-packages\\sklearn\\linear_model\\logistic.py:433: FutureWarning: Default solver will be changed to 'lbfgs' in 0.22. Specify a solver to silence this warning.\n",
      "  FutureWarning)\n"
     ]
    },
    {
     "name": "stdout",
     "output_type": "stream",
     "text": [
      "C = TRB%validaction accuracy: 0.6742857142857143TRB%\n"
     ]
    },
    {
     "name": "stderr",
     "output_type": "stream",
     "text": [
      "C:\\Users\\brand\\Anaconda3\\lib\\site-packages\\sklearn\\linear_model\\logistic.py:433: FutureWarning: Default solver will be changed to 'lbfgs' in 0.22. Specify a solver to silence this warning.\n",
      "  FutureWarning)\n"
     ]
    },
    {
     "name": "stdout",
     "output_type": "stream",
     "text": [
      "C = AST%validaction accuracy: 0.6737888198757764AST%\n"
     ]
    },
    {
     "name": "stderr",
     "output_type": "stream",
     "text": [
      "C:\\Users\\brand\\Anaconda3\\lib\\site-packages\\sklearn\\linear_model\\logistic.py:433: FutureWarning: Default solver will be changed to 'lbfgs' in 0.22. Specify a solver to silence this warning.\n",
      "  FutureWarning)\n"
     ]
    },
    {
     "name": "stdout",
     "output_type": "stream",
     "text": [
      "C = STL%validaction accuracy: 0.6727950310559005STL%\n"
     ]
    },
    {
     "name": "stderr",
     "output_type": "stream",
     "text": [
      "C:\\Users\\brand\\Anaconda3\\lib\\site-packages\\sklearn\\linear_model\\logistic.py:433: FutureWarning: Default solver will be changed to 'lbfgs' in 0.22. Specify a solver to silence this warning.\n",
      "  FutureWarning)\n"
     ]
    },
    {
     "name": "stdout",
     "output_type": "stream",
     "text": [
      "C = BLK%validaction accuracy: 0.675776397515528BLK%\n"
     ]
    },
    {
     "name": "stderr",
     "output_type": "stream",
     "text": [
      "C:\\Users\\brand\\Anaconda3\\lib\\site-packages\\sklearn\\linear_model\\logistic.py:433: FutureWarning: Default solver will be changed to 'lbfgs' in 0.22. Specify a solver to silence this warning.\n",
      "  FutureWarning)\n"
     ]
    },
    {
     "name": "stdout",
     "output_type": "stream",
     "text": [
      "C = eFG%validaction accuracy: 0.675776397515528eFG%\n"
     ]
    },
    {
     "name": "stderr",
     "output_type": "stream",
     "text": [
      "C:\\Users\\brand\\Anaconda3\\lib\\site-packages\\sklearn\\linear_model\\logistic.py:433: FutureWarning: Default solver will be changed to 'lbfgs' in 0.22. Specify a solver to silence this warning.\n",
      "  FutureWarning)\n"
     ]
    },
    {
     "name": "stdout",
     "output_type": "stream",
     "text": [
      "C = TOV%validaction accuracy: 0.6754037267080746TOV%\n"
     ]
    },
    {
     "name": "stderr",
     "output_type": "stream",
     "text": [
      "C:\\Users\\brand\\Anaconda3\\lib\\site-packages\\sklearn\\linear_model\\logistic.py:433: FutureWarning: Default solver will be changed to 'lbfgs' in 0.22. Specify a solver to silence this warning.\n",
      "  FutureWarning)\n"
     ]
    },
    {
     "name": "stdout",
     "output_type": "stream",
     "text": [
      "C = ORB%validaction accuracy: 0.6746583850931678ORB%\n"
     ]
    },
    {
     "name": "stderr",
     "output_type": "stream",
     "text": [
      "C:\\Users\\brand\\Anaconda3\\lib\\site-packages\\sklearn\\linear_model\\logistic.py:433: FutureWarning: Default solver will be changed to 'lbfgs' in 0.22. Specify a solver to silence this warning.\n",
      "  FutureWarning)\n"
     ]
    },
    {
     "name": "stdout",
     "output_type": "stream",
     "text": [
      "C = FT/FGAvalidaction accuracy: 0.675776397515528FT/FGA\n"
     ]
    },
    {
     "name": "stderr",
     "output_type": "stream",
     "text": [
      "C:\\Users\\brand\\Anaconda3\\lib\\site-packages\\sklearn\\linear_model\\logistic.py:433: FutureWarning: Default solver will be changed to 'lbfgs' in 0.22. Specify a solver to silence this warning.\n",
      "  FutureWarning)\n"
     ]
    },
    {
     "name": "stdout",
     "output_type": "stream",
     "text": [
      "C = Opp_eFG%validaction accuracy: 0.675776397515528Opp_eFG%\n"
     ]
    },
    {
     "name": "stderr",
     "output_type": "stream",
     "text": [
      "C:\\Users\\brand\\Anaconda3\\lib\\site-packages\\sklearn\\linear_model\\logistic.py:433: FutureWarning: Default solver will be changed to 'lbfgs' in 0.22. Specify a solver to silence this warning.\n",
      "  FutureWarning)\n"
     ]
    },
    {
     "name": "stdout",
     "output_type": "stream",
     "text": [
      "C = Opp_TOV%validaction accuracy: 0.6737888198757764Opp_TOV%\n"
     ]
    },
    {
     "name": "stderr",
     "output_type": "stream",
     "text": [
      "C:\\Users\\brand\\Anaconda3\\lib\\site-packages\\sklearn\\linear_model\\logistic.py:433: FutureWarning: Default solver will be changed to 'lbfgs' in 0.22. Specify a solver to silence this warning.\n",
      "  FutureWarning)\n"
     ]
    },
    {
     "name": "stdout",
     "output_type": "stream",
     "text": [
      "C = DRB%validaction accuracy: 0.6740372670807453DRB%\n"
     ]
    },
    {
     "name": "stderr",
     "output_type": "stream",
     "text": [
      "C:\\Users\\brand\\Anaconda3\\lib\\site-packages\\sklearn\\linear_model\\logistic.py:433: FutureWarning: Default solver will be changed to 'lbfgs' in 0.22. Specify a solver to silence this warning.\n",
      "  FutureWarning)\n"
     ]
    },
    {
     "name": "stdout",
     "output_type": "stream",
     "text": [
      "C = Opp_FT/FGAvalidaction accuracy: 0.6754037267080746Opp_FT/FGA\n"
     ]
    },
    {
     "name": "stderr",
     "output_type": "stream",
     "text": [
      "C:\\Users\\brand\\Anaconda3\\lib\\site-packages\\sklearn\\linear_model\\logistic.py:433: FutureWarning: Default solver will be changed to 'lbfgs' in 0.22. Specify a solver to silence this warning.\n",
      "  FutureWarning)\n"
     ]
    },
    {
     "name": "stdout",
     "output_type": "stream",
     "text": [
      "C = Awayvalidaction accuracy: 0.6463354037267081Away\n"
     ]
    },
    {
     "name": "stderr",
     "output_type": "stream",
     "text": [
      "C:\\Users\\brand\\Anaconda3\\lib\\site-packages\\sklearn\\linear_model\\logistic.py:433: FutureWarning: Default solver will be changed to 'lbfgs' in 0.22. Specify a solver to silence this warning.\n",
      "  FutureWarning)\n"
     ]
    },
    {
     "name": "stdout",
     "output_type": "stream",
     "text": [
      "C = daysvalidaction accuracy: 0.6744099378881987days\n"
     ]
    }
   ],
   "source": [
    "for i in ['W/L', 'PF', 'PA', 'ORtg', 'DRtg', 'Pace', 'FTr', '3PAr', 'TS%', 'TRB%',\n",
    "       'AST%', 'STL%', 'BLK%', 'eFG%', 'TOV%', 'ORB%', 'FT/FGA', 'Opp_eFG%',\n",
    "       'Opp_TOV%', 'DRB%', 'Opp_FT/FGA', 'Away', 'days']:\n",
    "    lm = linear_model.LogisticRegression(C=0.01)\n",
    "    lm.fit(train_difs.drop(['eFG%','FT/FGA','BLK%','Opp_eFG%', i], axis=1), train_y)\n",
    "    preds = lm.predict(valid_difs.drop(['eFG%','FT/FGA','BLK%','Opp_eFG%', i], axis=1))\n",
    "    acc = 1 - np.mean(abs(preds - valid_y))\n",
    "    print('C = ' + str(i) + 'validaction accuracy: ' + str(acc) + str(i))"
   ]
  },
  {
   "cell_type": "code",
   "execution_count": 673,
   "metadata": {},
   "outputs": [
    {
     "data": {
      "text/plain": [
       "0.6610358961619675"
      ]
     },
     "execution_count": 673,
     "metadata": {},
     "output_type": "execute_result"
    }
   ],
   "source": [
    "preds = lm.predict(test_difs.drop(['eFG%','FT/FGA','BLK%', i], axis=1))\n",
    "acc = 1 - np.mean(abs(preds - test_y))\n",
    "acc"
   ]
  },
  {
   "cell_type": "code",
   "execution_count": 619,
   "metadata": {},
   "outputs": [],
   "source": [
    "all_difs = pd.concat([train_difs,valid_difs,test_difs])"
   ]
  },
  {
   "cell_type": "code",
   "execution_count": 622,
   "metadata": {},
   "outputs": [
    {
     "data": {
      "text/html": [
       "<div>\n",
       "<style scoped>\n",
       "    .dataframe tbody tr th:only-of-type {\n",
       "        vertical-align: middle;\n",
       "    }\n",
       "\n",
       "    .dataframe tbody tr th {\n",
       "        vertical-align: top;\n",
       "    }\n",
       "\n",
       "    .dataframe thead th {\n",
       "        text-align: right;\n",
       "    }\n",
       "</style>\n",
       "<table border=\"1\" class=\"dataframe\">\n",
       "  <thead>\n",
       "    <tr style=\"text-align: right;\">\n",
       "      <th></th>\n",
       "      <th>W/L</th>\n",
       "      <th>PF</th>\n",
       "      <th>PA</th>\n",
       "      <th>ORtg</th>\n",
       "      <th>DRtg</th>\n",
       "      <th>Pace</th>\n",
       "      <th>FTr</th>\n",
       "      <th>3PAr</th>\n",
       "      <th>TS%</th>\n",
       "      <th>TRB%</th>\n",
       "      <th>...</th>\n",
       "      <th>TOV%</th>\n",
       "      <th>ORB%</th>\n",
       "      <th>FT/FGA</th>\n",
       "      <th>Opp_eFG%</th>\n",
       "      <th>Opp_TOV%</th>\n",
       "      <th>DRB%</th>\n",
       "      <th>Opp_FT/FGA</th>\n",
       "      <th>Away</th>\n",
       "      <th>days</th>\n",
       "      <th>Season</th>\n",
       "    </tr>\n",
       "  </thead>\n",
       "  <tbody>\n",
       "    <tr>\n",
       "      <th>0</th>\n",
       "      <td>0.0</td>\n",
       "      <td>9.1</td>\n",
       "      <td>8.3</td>\n",
       "      <td>7.22</td>\n",
       "      <td>6.02</td>\n",
       "      <td>1.89</td>\n",
       "      <td>0.0768</td>\n",
       "      <td>-0.0353</td>\n",
       "      <td>0.0369</td>\n",
       "      <td>2.03</td>\n",
       "      <td>...</td>\n",
       "      <td>-0.50</td>\n",
       "      <td>1.08</td>\n",
       "      <td>0.0503</td>\n",
       "      <td>0.0403</td>\n",
       "      <td>-0.23</td>\n",
       "      <td>4.12</td>\n",
       "      <td>0.0148</td>\n",
       "      <td>1.0</td>\n",
       "      <td>1</td>\n",
       "      <td>2005</td>\n",
       "    </tr>\n",
       "    <tr>\n",
       "      <th>1</th>\n",
       "      <td>-0.1</td>\n",
       "      <td>-12.7</td>\n",
       "      <td>-5.9</td>\n",
       "      <td>-9.71</td>\n",
       "      <td>-1.74</td>\n",
       "      <td>-1.45</td>\n",
       "      <td>0.0445</td>\n",
       "      <td>-0.0417</td>\n",
       "      <td>-0.0350</td>\n",
       "      <td>1.71</td>\n",
       "      <td>...</td>\n",
       "      <td>2.47</td>\n",
       "      <td>0.37</td>\n",
       "      <td>0.0246</td>\n",
       "      <td>0.0376</td>\n",
       "      <td>4.83</td>\n",
       "      <td>5.89</td>\n",
       "      <td>0.0184</td>\n",
       "      <td>0.0</td>\n",
       "      <td>1</td>\n",
       "      <td>2003</td>\n",
       "    </tr>\n",
       "    <tr>\n",
       "      <th>2</th>\n",
       "      <td>-0.5</td>\n",
       "      <td>-3.6</td>\n",
       "      <td>7.4</td>\n",
       "      <td>-9.78</td>\n",
       "      <td>2.62</td>\n",
       "      <td>2.96</td>\n",
       "      <td>-0.1012</td>\n",
       "      <td>0.0497</td>\n",
       "      <td>-0.0610</td>\n",
       "      <td>-7.26</td>\n",
       "      <td>...</td>\n",
       "      <td>-2.86</td>\n",
       "      <td>-7.81</td>\n",
       "      <td>-0.0665</td>\n",
       "      <td>0.0554</td>\n",
       "      <td>2.87</td>\n",
       "      <td>2.53</td>\n",
       "      <td>0.0640</td>\n",
       "      <td>1.0</td>\n",
       "      <td>0</td>\n",
       "      <td>2010</td>\n",
       "    </tr>\n",
       "    <tr>\n",
       "      <th>3</th>\n",
       "      <td>0.0</td>\n",
       "      <td>8.0</td>\n",
       "      <td>0.6</td>\n",
       "      <td>4.28</td>\n",
       "      <td>-3.92</td>\n",
       "      <td>3.68</td>\n",
       "      <td>-0.0048</td>\n",
       "      <td>0.0245</td>\n",
       "      <td>0.0294</td>\n",
       "      <td>0.10</td>\n",
       "      <td>...</td>\n",
       "      <td>-0.31</td>\n",
       "      <td>-0.24</td>\n",
       "      <td>-0.0174</td>\n",
       "      <td>-0.0287</td>\n",
       "      <td>0.39</td>\n",
       "      <td>1.22</td>\n",
       "      <td>0.0571</td>\n",
       "      <td>1.0</td>\n",
       "      <td>0</td>\n",
       "      <td>1997</td>\n",
       "    </tr>\n",
       "    <tr>\n",
       "      <th>4</th>\n",
       "      <td>-0.1</td>\n",
       "      <td>1.9</td>\n",
       "      <td>-7.4</td>\n",
       "      <td>-0.41</td>\n",
       "      <td>-9.94</td>\n",
       "      <td>3.17</td>\n",
       "      <td>0.0124</td>\n",
       "      <td>0.0654</td>\n",
       "      <td>0.0179</td>\n",
       "      <td>0.54</td>\n",
       "      <td>...</td>\n",
       "      <td>0.94</td>\n",
       "      <td>-2.75</td>\n",
       "      <td>-0.0052</td>\n",
       "      <td>-0.0281</td>\n",
       "      <td>3.16</td>\n",
       "      <td>2.10</td>\n",
       "      <td>-0.0253</td>\n",
       "      <td>0.0</td>\n",
       "      <td>1</td>\n",
       "      <td>2019</td>\n",
       "    </tr>\n",
       "  </tbody>\n",
       "</table>\n",
       "<p>5 rows × 24 columns</p>\n",
       "</div>"
      ],
      "text/plain": [
       "   W/L    PF   PA  ORtg  DRtg  Pace     FTr    3PAr     TS%  TRB%  ...  TOV%  \\\n",
       "0  0.0   9.1  8.3  7.22  6.02  1.89  0.0768 -0.0353  0.0369  2.03  ... -0.50   \n",
       "1 -0.1 -12.7 -5.9 -9.71 -1.74 -1.45  0.0445 -0.0417 -0.0350  1.71  ...  2.47   \n",
       "2 -0.5  -3.6  7.4 -9.78  2.62  2.96 -0.1012  0.0497 -0.0610 -7.26  ... -2.86   \n",
       "3  0.0   8.0  0.6  4.28 -3.92  3.68 -0.0048  0.0245  0.0294  0.10  ... -0.31   \n",
       "4 -0.1   1.9 -7.4 -0.41 -9.94  3.17  0.0124  0.0654  0.0179  0.54  ...  0.94   \n",
       "\n",
       "   ORB%  FT/FGA  Opp_eFG%  Opp_TOV%  DRB%  Opp_FT/FGA  Away  days  Season  \n",
       "0  1.08  0.0503    0.0403     -0.23  4.12      0.0148   1.0     1    2005  \n",
       "1  0.37  0.0246    0.0376      4.83  5.89      0.0184   0.0     1    2003  \n",
       "2 -7.81 -0.0665    0.0554      2.87  2.53      0.0640   1.0     0    2010  \n",
       "3 -0.24 -0.0174   -0.0287      0.39  1.22      0.0571   1.0     0    1997  \n",
       "4 -2.75 -0.0052   -0.0281      3.16  2.10     -0.0253   0.0     1    2019  \n",
       "\n",
       "[5 rows x 24 columns]"
      ]
     },
     "execution_count": 622,
     "metadata": {},
     "output_type": "execute_result"
    }
   ],
   "source": [
    "seasons = pd.concat([train['Season'], valid['Season'],test['Season']])\n",
    "all_difs['Season'] = seasons\n",
    "all_difs.head()"
   ]
  },
  {
   "cell_type": "code",
   "execution_count": 633,
   "metadata": {},
   "outputs": [
    {
     "data": {
      "image/png": "[encoded data removed]",
      "text/plain": [
       "<Figure size 432x288 with 1 Axes>"
      ]
     },
     "metadata": {
      "needs_background": "light"
     },
     "output_type": "display_data"
    }
   ],
   "source": [
    "wldif = all_difs.groupby('Season').mean()[['W/L']].plot(kind='line',title = 'Average difference in W/L in past 10 Games')"
   ]
  },
  {
   "cell_type": "code",
   "execution_count": 635,
   "metadata": {},
   "outputs": [
    {
     "data": {
      "image/png": "[encoded data removed]",
      "text/plain": [
       "<Figure size 432x288 with 1 Axes>"
      ]
     },
     "metadata": {
      "needs_background": "light"
     },
     "output_type": "display_data"
    }
   ],
   "source": [
    "pfpadif = all_difs.groupby('Season').mean()[['PF','PA']].plot(kind='line',title = 'Average difference in PF and PA in past 10 Games')"
   ]
  },
  {
   "cell_type": "code",
   "execution_count": 636,
   "metadata": {},
   "outputs": [],
   "source": [
    "fig = wldif.get_figure()\n",
    "fig.savefig('wldif.png')"
   ]
  },
  {
   "cell_type": "code",
   "execution_count": 637,
   "metadata": {},
   "outputs": [],
   "source": [
    "fig = pfpadif.get_figure()\n",
    "fig.savefig('pfpadif.png')"
   ]
  },
  {
   "cell_type": "code",
   "execution_count": 638,
   "metadata": {},
   "outputs": [
    {
     "data": {
      "text/plain": [
       "Index(['W/L', 'PF', 'PA', 'ORtg', 'DRtg', 'Pace', 'FTr', '3PAr', 'TS%', 'TRB%',\n",
       "       'AST%', 'STL%', 'BLK%', 'eFG%', 'TOV%', 'ORB%', 'FT/FGA', 'Opp_eFG%',\n",
       "       'Opp_TOV%', 'DRB%', 'Opp_FT/FGA', 'Away', 'days'],\n",
       "      dtype='object')"
      ]
     },
     "execution_count": 638,
     "metadata": {},
     "output_type": "execute_result"
    }
   ],
   "source": [
    "valid_difs.columns"
   ]
  },
  {
   "cell_type": "code",
   "execution_count": 641,
   "metadata": {},
   "outputs": [],
   "source": [
    "from sklearn.svm import SVC"
   ]
  },
  {
   "cell_type": "code",
   "execution_count": 642,
   "metadata": {},
   "outputs": [
    {
     "name": "stderr",
     "output_type": "stream",
     "text": [
      "C:\\Users\\brand\\Anaconda3\\lib\\site-packages\\sklearn\\svm\\base.py:196: FutureWarning: The default value of gamma will change from 'auto' to 'scale' in version 0.22 to account better for unscaled features. Set gamma explicitly to 'auto' or 'scale' to avoid this warning.\n",
      "  \"avoid this warning.\", FutureWarning)\n"
     ]
    },
    {
     "data": {
      "text/plain": [
       "SVC(C=1.0, cache_size=200, class_weight=None, coef0=0.0,\n",
       "  decision_function_shape='ovr', degree=3, gamma='auto_deprecated',\n",
       "  kernel='rbf', max_iter=-1, probability=False, random_state=None,\n",
       "  shrinking=True, tol=0.001, verbose=False)"
      ]
     },
     "execution_count": 642,
     "metadata": {},
     "output_type": "execute_result"
    }
   ],
   "source": [
    "svc = SVC(C=1.0)\n",
    "svc.fit(train_difs, train_y)"
   ]
  },
  {
   "cell_type": "code",
   "execution_count": 644,
   "metadata": {},
   "outputs": [
    {
     "data": {
      "text/plain": [
       "0.6118012422360248"
      ]
     },
     "execution_count": 644,
     "metadata": {},
     "output_type": "execute_result"
    }
   ],
   "source": [
    "preds = svc.predict(valid_difs)\n",
    "1 - np.mean(abs(preds - valid_y))"
   ]
  },
  {
   "cell_type": "code",
   "execution_count": 645,
   "metadata": {},
   "outputs": [],
   "source": [
    "from sklearn.decomposition import PCA\n",
    "pca = PCA()"
   ]
  },
  {
   "cell_type": "code",
   "execution_count": 651,
   "metadata": {},
   "outputs": [],
   "source": [
    "X_tr = train1.drop(['G','Season','Date','Team','Opp','Win'], axis = 1)\n",
    "X_va = valid1.drop(['G','Season','Date','Team','Opp','Win'], axis = 1)\n",
    "X_te = test1.drop(['G','Season','Date','Team','Opp','Win'], axis = 1)"
   ]
  },
  {
   "cell_type": "code",
   "execution_count": 652,
   "metadata": {},
   "outputs": [],
   "source": [
    "X = pd.concat([X_tr, X_va, X_te])"
   ]
  },
  {
   "cell_type": "code",
   "execution_count": 653,
   "metadata": {},
   "outputs": [
    {
     "data": {
      "text/plain": [
       "PCA(copy=True, iterated_power='auto', n_components=None, random_state=None,\n",
       "  svd_solver='auto', tol=0.0, whiten=False)"
      ]
     },
     "execution_count": 653,
     "metadata": {},
     "output_type": "execute_result"
    }
   ],
   "source": [
    "pca.fit(X)"
   ]
  },
  {
   "cell_type": "code",
   "execution_count": 654,
   "metadata": {},
   "outputs": [
    {
     "data": {
      "text/plain": [
       "array([-1.93424537e-05,  7.79888025e-05,  4.16837848e-01,  4.14268723e-01,\n",
       "        2.03167168e-01,  2.00770978e-01,  2.08541299e-01, -7.66965485e-04,\n",
       "        3.24852786e-03,  1.15455128e-03, -8.87007332e-03, -4.39659734e-02,\n",
       "       -2.27172509e-02,  4.78688424e-03,  1.30883363e-03, -3.87797968e-02,\n",
       "       -1.19755043e-01, -3.85287514e-04,  1.28465795e-03, -3.92148490e-02,\n",
       "        1.00057986e-01, -5.24958341e-04,  9.12915255e-05,  4.16592676e-01,\n",
       "        4.13644491e-01,  2.03210157e-01,  2.00387453e-01,  2.08298583e-01,\n",
       "       -7.60743882e-04,  3.25195669e-03,  1.15575256e-03, -8.73889244e-03,\n",
       "       -4.38606788e-02, -2.27926811e-02,  4.79452636e-03,  1.30956098e-03,\n",
       "       -3.87581015e-02, -1.20002899e-01, -3.80957068e-04,  1.28320801e-03,\n",
       "       -3.93424951e-02,  1.00459661e-01, -5.27943554e-04])"
      ]
     },
     "execution_count": 654,
     "metadata": {},
     "output_type": "execute_result"
    }
   ],
   "source": [
    "pca.components_[0]"
   ]
  },
  {
   "cell_type": "code",
   "execution_count": 657,
   "metadata": {},
   "outputs": [],
   "source": [
    "Xpca_train = pd.DataFrame(np.matmul(X_tr, pca.components_.T))\n",
    "Xpca_valid = pd.DataFrame(np.matmul(X_va, pca.components_.T))\n",
    "Xpca_test = pd.DataFrame(np.matmul(X_te, pca.components_.T))"
   ]
  },
  {
   "cell_type": "code",
   "execution_count": 656,
   "metadata": {},
   "outputs": [],
   "source": [
    "X_tr = X_tr.astype(float)\n",
    "X_va = X_va.astype(float)\n",
    "X_te = X_te.astype(float)"
   ]
  },
  {
   "cell_type": "code",
   "execution_count": 659,
   "metadata": {},
   "outputs": [
    {
     "name": "stdout",
     "output_type": "stream",
     "text": [
      "C = 0.001 n  = 5 validaction accuracy: 0.6424844720496894\n",
      "C = 0.001 n  = 10 validaction accuracy: 0.6467080745341616\n",
      "C = 0.001 n  = 15 validaction accuracy: 0.6442236024844721\n",
      "C = 0.001 n  = 20 validaction accuracy: 0.6481987577639752\n",
      "C = 0.01 n  = 5 validaction accuracy: 0.6424844720496894\n",
      "C = 0.01 n  = 10 validaction accuracy: 0.6468322981366459\n",
      "C = 0.01 n  = 15 validaction accuracy: 0.6443478260869565\n",
      "C = 0.01 n  = 20 validaction accuracy: 0.6481987577639752\n",
      "C = 0.1 n  = 5 validaction accuracy: 0.6427329192546584\n",
      "C = 0.1 n  = 10 validaction accuracy: 0.6468322981366459\n",
      "C = 0.1 n  = 15 validaction accuracy: 0.6442236024844721\n",
      "C = 0.1 n  = 20 validaction accuracy: 0.6481987577639752\n",
      "C = 1 n  = 5 validaction accuracy: 0.6437267080745341\n",
      "C = 1 n  = 10 validaction accuracy: 0.6468322981366459\n",
      "C = 1 n  = 15 validaction accuracy: 0.6442236024844721\n",
      "C = 1 n  = 20 validaction accuracy: 0.6480745341614906\n",
      "C = 10 n  = 5 validaction accuracy: 0.6436024844720497\n",
      "C = 10 n  = 10 validaction accuracy: 0.6468322981366459\n",
      "C = 10 n  = 15 validaction accuracy: 0.6442236024844721\n",
      "C = 10 n  = 20 validaction accuracy: 0.6481987577639752\n",
      "C = 100 n  = 5 validaction accuracy: 0.6437267080745341\n",
      "C = 100 n  = 10 validaction accuracy: 0.6468322981366459\n",
      "C = 100 n  = 15 validaction accuracy: 0.6442236024844721\n",
      "C = 100 n  = 20 validaction accuracy: 0.6481987577639752\n"
     ]
    }
   ],
   "source": [
    "for i in [0.001,0.01,0.1,1,10,100,]:\n",
    "    for n in range(5,21,5):\n",
    "        x_train = Xpca_train.iloc[:,:n]\n",
    "        x_valid = Xpca_valid.iloc[:,:n]\n",
    "        x_test = Xpca_test.iloc[:,:n]\n",
    "        lm = linear_model.LogisticRegression(C=i, class_weight='balanced', solver = 'liblinear')\n",
    "        lm.fit(x_train, train_y)\n",
    "        y_valid_pred = lm.predict(x_valid)\n",
    "        acc = 1 - np.mean(abs(y_valid_pred - valid_y))\n",
    "        print('C = ' + str(i) + ' n  = ' + str(n) + ' validaction accuracy: ' + str(acc))"
   ]
  },
  {
   "cell_type": "code",
   "execution_count": 675,
   "metadata": {},
   "outputs": [
    {
     "data": {
      "text/plain": [
       "Index(['G', 'Season', 'Date', 'Team', 'Away', 'Opp', 'W/L', 'PF', 'PA', 'ORtg',\n",
       "       'DRtg', 'Pace', 'FTr', '3PAr', 'TS%', 'TRB%', 'AST%', 'STL%', 'BLK%',\n",
       "       'eFG%', 'TOV%', 'ORB%', 'FT/FGA', 'Opp_eFG%', 'Opp_TOV%', 'DRB%',\n",
       "       'Opp_FT/FGA', 'Oppo_W/L', 'Oppo_PF', 'Oppo_PA', 'Oppo_ORtg',\n",
       "       'Oppo_DRtg', 'Oppo_Pace', 'Oppo_FTr', 'Oppo_3PAr', 'Oppo_TS%',\n",
       "       'Oppo_TRB%', 'Oppo_AST%', 'Oppo_STL%', 'Oppo_BLK%', 'Oppo_eFG%',\n",
       "       'Oppo_TOV%', 'Oppo_ORB%', 'Oppo_FT/FGA', 'Oppo_Opp_eFG%',\n",
       "       'Oppo_Opp_TOV%', 'Oppo_DRB%', 'Oppo_Opp_FT/FGA', 'Win'],\n",
       "      dtype='object')"
      ]
     },
     "execution_count": 675,
     "metadata": {},
     "output_type": "execute_result"
    }
   ],
   "source": [
    "train1.columns"
   ]
  },
  {
   "cell_type": "code",
   "execution_count": null,
   "metadata": {},
   "outputs": [],
   "source": []
  }
 ],
 "metadata": {
  "kernelspec": {
   "display_name": "Python 3",
   "language": "python",
   "name": "python3"
  },
  "language_info": {
   "codemirror_mode": {
    "name": "ipython",
    "version": 3
   },
   "file_extension": ".py",
   "mimetype": "text/x-python",
   "name": "python",
   "nbconvert_exporter": "python",
   "pygments_lexer": "ipython3",
   "version": "3.6.8"
  }
 },
 "nbformat": 4,
 "nbformat_minor": 2
}
